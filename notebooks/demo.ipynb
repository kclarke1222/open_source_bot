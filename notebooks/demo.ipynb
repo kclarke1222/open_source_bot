{
 "cells": [
  {
   "cell_type": "markdown",
   "metadata": {},
   "source": [
    "# 🤖 Open Source Contribution Agent - Full Pipeline Demo\n",
    "\n",
    "This notebook demonstrates the complete multi-agent pipeline for autonomous open source contributions.\n",
    "\n",
    "## Agent Pipeline Overview\n",
    "\n",
    "1. **🔍 Scout Agent** - Discovers suitable repositories\n",
    "2. **📊 Analyzer Agent** - Analyzes repositories for contribution opportunities\n",
    "3. **🎯 Strategist Agent** - Plans optimal contribution strategy\n",
    "4. **💻 Coder Agent** - Generates code, documentation, and PR drafts\n",
    "5. **📝 Feedback Agent** - Simulates maintainer feedback and lifecycle\n",
    "\n",
    "Let's see the agents in action!"
   ]
  },
  {
   "cell_type": "markdown",
   "metadata": {},
   "source": [
    "## Setup and Configuration\n",
    "\n",
    "First, let's import our agents and set up the environment."
   ]
  },
  {
   "cell_type": "code",
   "execution_count": 1,
   "metadata": {},
   "outputs": [
    {
     "data": {
      "text/html": [
       "<pre style=\"white-space:pre;overflow-x:auto;line-height:normal;font-family:Menlo,'DejaVu Sans Mono',consolas,'Courier New',monospace\">╭─────────────────────────────────────────── Welcome to the Agent Demo ───────────────────────────────────────────╮\n",
       "│ <span style=\"color: #008000; text-decoration-color: #008000; font-weight: bold\">🚀 Open Source Contribution Agent initialized!</span>                                                                  │\n",
       "│                                                                                                                 │\n",
       "│ This demo will show how our multi-agent system discovers repositories,                                          │\n",
       "│ analyzes contribution opportunities, and generates complete PR drafts.                                          │\n",
       "╰─────────────────────────────────────────────────────────────────────────────────────────────────────────────────╯\n",
       "</pre>\n"
      ],
      "text/plain": [
       "╭─────────────────────────────────────────── Welcome to the Agent Demo ───────────────────────────────────────────╮\n",
       "│ \u001b[1;32m🚀 Open Source Contribution Agent initialized!\u001b[0m                                                                  │\n",
       "│                                                                                                                 │\n",
       "│ This demo will show how our multi-agent system discovers repositories,                                          │\n",
       "│ analyzes contribution opportunities, and generates complete PR drafts.                                          │\n",
       "╰─────────────────────────────────────────────────────────────────────────────────────────────────────────────────╯\n"
      ]
     },
     "metadata": {},
     "output_type": "display_data"
    }
   ],
   "source": [
    "import os\n",
    "import sys\n",
    "sys.path.append('..')\n",
    "\n",
    "# Import our agents\n",
    "from agents.scout import ScoutAgent\n",
    "from agents.analyzer import AnalyzerAgent\n",
    "from agents.strategist import StrategistAgent\n",
    "from agents.coder import CoderAgent\n",
    "from core.feedback import MockFeedbackAgent\n",
    "from core.utils import load_config\n",
    "\n",
    "from rich.console import Console\n",
    "from rich.panel import Panel\n",
    "import json\n",
    "\n",
    "# Initialize console for pretty output\n",
    "console = Console()\n",
    "\n",
    "# Load configuration (GitHub token, Anthropic key)\n",
    "config = load_config()\n",
    "\n",
    "console.print(Panel(\n",
    "    \"[bold green]🚀 Open Source Contribution Agent initialized![/bold green]\\n\\n\"\n",
    "    \"This demo will show how our multi-agent system discovers repositories,\\n\"\n",
    "    \"analyzes contribution opportunities, and generates complete PR drafts.\",\n",
    "    title=\"Welcome to the Agent Demo\"\n",
    "))"
   ]
  },
  {
   "cell_type": "markdown",
   "metadata": {},
   "source": [
    "## Step 1: 🔍 Repository Discovery (Scout Agent)\n",
    "\n",
    "The Scout Agent searches GitHub for repositories that match our contribution criteria."
   ]
  },
  {
   "cell_type": "code",
   "execution_count": null,
   "metadata": {},
   "outputs": [
    {
     "data": {
      "text/html": [
       "<pre style=\"white-space:pre;overflow-x:auto;line-height:normal;font-family:Menlo,'DejaVu Sans Mono',consolas,'Courier New',monospace\">╭─────────────────────────────────────── 🔍 Scout Agent - Search Criteria ────────────────────────────────────────╮\n",
       "│ Searching for repositories with:                                                                                │\n",
       "│ • Languages: Python                                                                                             │\n",
       "│ • Topics: data-engineering, machine-learning, web-development                                                   │\n",
       "│ • Minimum stars: 50                                                                                             │\n",
       "│ • Maximum results: 10                                                                                           │\n",
       "╰─────────────────────────────────────────────────────────────────────────────────────────────────────────────────╯\n",
       "</pre>\n"
      ],
      "text/plain": [
       "╭─────────────────────────────────────── 🔍 Scout Agent - Search Criteria ────────────────────────────────────────╮\n",
       "│ Searching for repositories with:                                                                                │\n",
       "│ • Languages: Python                                                                                             │\n",
       "│ • Topics: data-engineering, machine-learning, web-development                                                   │\n",
       "│ • Minimum stars: 50                                                                                             │\n",
       "│ • Maximum results: 10                                                                                           │\n",
       "╰─────────────────────────────────────────────────────────────────────────────────────────────────────────────────╯\n"
      ]
     },
     "metadata": {},
     "output_type": "display_data"
    },
    {
     "data": {
      "text/html": [
       "<pre style=\"white-space:pre;overflow-x:auto;line-height:normal;font-family:Menlo,'DejaVu Sans Mono',consolas,'Courier New',monospace\">🔍 <span style=\"color: #000080; text-decoration-color: #000080; font-weight: bold\">Scout Agent: Searching for repositories...</span>\n",
       "</pre>\n"
      ],
      "text/plain": [
       "🔍 \u001b[1;34mScout Agent: Searching for repositories\u001b[0m\u001b[1;34m...\u001b[0m\n"
      ]
     },
     "metadata": {},
     "output_type": "display_data"
    },
    {
     "data": {
      "text/html": [
       "<pre style=\"white-space:pre;overflow-x:auto;line-height:normal;font-family:Menlo,'DejaVu Sans Mono',consolas,'Courier New',monospace\">  Found <span style=\"color: #008080; text-decoration-color: #008080; font-weight: bold\">10</span> repositories for Python\n",
       "</pre>\n"
      ],
      "text/plain": [
       "  Found \u001b[1;36m10\u001b[0m repositories for Python\n"
      ]
     },
     "metadata": {},
     "output_type": "display_data"
    },
    {
     "data": {
      "text/html": [
       "<pre style=\"white-space:pre;overflow-x:auto;line-height:normal;font-family:Menlo,'DejaVu Sans Mono',consolas,'Courier New',monospace\">  Found <span style=\"color: #008080; text-decoration-color: #008080; font-weight: bold\">10</span> repositories for Python + data-engineering\n",
       "</pre>\n"
      ],
      "text/plain": [
       "  Found \u001b[1;36m10\u001b[0m repositories for Python + data-engineering\n"
      ]
     },
     "metadata": {},
     "output_type": "display_data"
    },
    {
     "data": {
      "text/html": [
       "<pre style=\"white-space:pre;overflow-x:auto;line-height:normal;font-family:Menlo,'DejaVu Sans Mono',consolas,'Courier New',monospace\">  Found <span style=\"color: #008080; text-decoration-color: #008080; font-weight: bold\">10</span> repositories for Python + machine-learning\n",
       "</pre>\n"
      ],
      "text/plain": [
       "  Found \u001b[1;36m10\u001b[0m repositories for Python + machine-learning\n"
      ]
     },
     "metadata": {},
     "output_type": "display_data"
    },
    {
     "data": {
      "text/html": [
       "<pre style=\"white-space:pre;overflow-x:auto;line-height:normal;font-family:Menlo,'DejaVu Sans Mono',consolas,'Courier New',monospace\">  Found <span style=\"color: #008080; text-decoration-color: #008080; font-weight: bold\">10</span> repositories for Python + web-development\n",
       "</pre>\n"
      ],
      "text/plain": [
       "  Found \u001b[1;36m10\u001b[0m repositories for Python + web-development\n"
      ]
     },
     "metadata": {},
     "output_type": "display_data"
    },
    {
     "data": {
      "text/html": [
       "<pre style=\"white-space:pre;overflow-x:auto;line-height:normal;font-family:Menlo,'DejaVu Sans Mono',consolas,'Courier New',monospace\">✅ <span style=\"color: #008000; text-decoration-color: #008000; font-weight: bold\">Found </span><span style=\"color: #008000; text-decoration-color: #008000; font-weight: bold\">10</span><span style=\"color: #008000; text-decoration-color: #008000; font-weight: bold\"> suitable repositories</span>\n",
       "</pre>\n"
      ],
      "text/plain": [
       "✅ \u001b[1;32mFound \u001b[0m\u001b[1;32m10\u001b[0m\u001b[1;32m suitable repositories\u001b[0m\n"
      ]
     },
     "metadata": {},
     "output_type": "display_data"
    },
    {
     "data": {
      "text/html": [
       "<pre style=\"white-space:pre;overflow-x:auto;line-height:normal;font-family:Menlo,'DejaVu Sans Mono',consolas,'Courier New',monospace\"><span style=\"font-style: italic\">                        🔍 Discovered Repositories                        </span>\n",
       "┏━━━━━━━━━━━━━━━━━━━━━━━━━━━━━━━━┳━━━━━━━┳━━━━━━━━━━┳━━━━━━━━━━━━┳━━━━━━━┓\n",
       "┃<span style=\"font-weight: bold\"> Repository                     </span>┃<span style=\"font-weight: bold\"> Stars </span>┃<span style=\"font-weight: bold\"> Language </span>┃<span style=\"font-weight: bold\"> Updated    </span>┃<span style=\"font-weight: bold\"> Score </span>┃\n",
       "┡━━━━━━━━━━━━━━━━━━━━━━━━━━━━━━━━╇━━━━━━━╇━━━━━━━━━━╇━━━━━━━━━━━━╇━━━━━━━┩\n",
       "│<span style=\"color: #008080; text-decoration-color: #008080\"> certbot/certbot                </span>│<span style=\"color: #800080; text-decoration-color: #800080\"> 32480 </span>│<span style=\"color: #008000; text-decoration-color: #008000\"> Python   </span>│<span style=\"color: #808000; text-decoration-color: #808000\"> 2025-09-25 </span>│<span style=\"color: #800000; text-decoration-color: #800000\">     8 </span>│\n",
       "│<span style=\"color: #008080; text-decoration-color: #008080\"> Alvin9999/new-pac              </span>│<span style=\"color: #800080; text-decoration-color: #800080\"> 68731 </span>│<span style=\"color: #008000; text-decoration-color: #008000\"> Python   </span>│<span style=\"color: #808000; text-decoration-color: #808000\"> 2025-09-25 </span>│<span style=\"color: #800000; text-decoration-color: #800000\">     8 </span>│\n",
       "│<span style=\"color: #008080; text-decoration-color: #008080\"> sstendahl/Graphs               </span>│<span style=\"color: #800080; text-decoration-color: #800080\">    68 </span>│<span style=\"color: #008000; text-decoration-color: #008000\"> Python   </span>│<span style=\"color: #808000; text-decoration-color: #808000\"> 2025-09-25 </span>│<span style=\"color: #800000; text-decoration-color: #800000\">     7 </span>│\n",
       "│<span style=\"color: #008080; text-decoration-color: #008080\"> truenas/scale-build            </span>│<span style=\"color: #800080; text-decoration-color: #800080\">   423 </span>│<span style=\"color: #008000; text-decoration-color: #008000\"> Python   </span>│<span style=\"color: #808000; text-decoration-color: #808000\"> 2025-09-25 </span>│<span style=\"color: #800000; text-decoration-color: #800000\">     7 </span>│\n",
       "│<span style=\"color: #008080; text-decoration-color: #008080\"> indmdev/Free-Telegram-Store-B… </span>│<span style=\"color: #800080; text-decoration-color: #800080\">    63 </span>│<span style=\"color: #008000; text-decoration-color: #008000\"> Python   </span>│<span style=\"color: #808000; text-decoration-color: #808000\"> 2025-09-25 </span>│<span style=\"color: #800000; text-decoration-color: #800000\">     7 </span>│\n",
       "│<span style=\"color: #008080; text-decoration-color: #008080\"> compiler-explorer/infra        </span>│<span style=\"color: #800080; text-decoration-color: #800080\">   387 </span>│<span style=\"color: #008000; text-decoration-color: #008000\"> Python   </span>│<span style=\"color: #808000; text-decoration-color: #808000\"> 2025-09-25 </span>│<span style=\"color: #800000; text-decoration-color: #800000\">     7 </span>│\n",
       "│<span style=\"color: #008080; text-decoration-color: #008080\"> Love4vn/love4vn                </span>│<span style=\"color: #800080; text-decoration-color: #800080\">   109 </span>│<span style=\"color: #008000; text-decoration-color: #008000\"> Python   </span>│<span style=\"color: #808000; text-decoration-color: #808000\"> 2025-09-25 </span>│<span style=\"color: #800000; text-decoration-color: #800000\">     6 </span>│\n",
       "│<span style=\"color: #008080; text-decoration-color: #008080\"> machinegpt/agent               </span>│<span style=\"color: #800080; text-decoration-color: #800080\">   277 </span>│<span style=\"color: #008000; text-decoration-color: #008000\"> Python   </span>│<span style=\"color: #808000; text-decoration-color: #808000\"> 2025-09-25 </span>│<span style=\"color: #800000; text-decoration-color: #800000\">     6 </span>│\n",
       "│<span style=\"color: #008080; text-decoration-color: #008080\"> mitodl/ol-infrastructure       </span>│<span style=\"color: #800080; text-decoration-color: #800080\">    52 </span>│<span style=\"color: #008000; text-decoration-color: #008000\"> Python   </span>│<span style=\"color: #808000; text-decoration-color: #808000\"> 2025-09-25 </span>│<span style=\"color: #800000; text-decoration-color: #800000\">     6 </span>│\n",
       "│<span style=\"color: #008080; text-decoration-color: #008080\"> saint2706/Coding-For-MBA       </span>│<span style=\"color: #800080; text-decoration-color: #800080\">    69 </span>│<span style=\"color: #008000; text-decoration-color: #008000\"> Python   </span>│<span style=\"color: #808000; text-decoration-color: #808000\"> 2025-09-25 </span>│<span style=\"color: #800000; text-decoration-color: #800000\">     5 </span>│\n",
       "└────────────────────────────────┴───────┴──────────┴────────────┴───────┘\n",
       "</pre>\n"
      ],
      "text/plain": [
       "\u001b[3m                        🔍 Discovered Repositories                        \u001b[0m\n",
       "┏━━━━━━━━━━━━━━━━━━━━━━━━━━━━━━━━┳━━━━━━━┳━━━━━━━━━━┳━━━━━━━━━━━━┳━━━━━━━┓\n",
       "┃\u001b[1m \u001b[0m\u001b[1mRepository                    \u001b[0m\u001b[1m \u001b[0m┃\u001b[1m \u001b[0m\u001b[1mStars\u001b[0m\u001b[1m \u001b[0m┃\u001b[1m \u001b[0m\u001b[1mLanguage\u001b[0m\u001b[1m \u001b[0m┃\u001b[1m \u001b[0m\u001b[1mUpdated   \u001b[0m\u001b[1m \u001b[0m┃\u001b[1m \u001b[0m\u001b[1mScore\u001b[0m\u001b[1m \u001b[0m┃\n",
       "┡━━━━━━━━━━━━━━━━━━━━━━━━━━━━━━━━╇━━━━━━━╇━━━━━━━━━━╇━━━━━━━━━━━━╇━━━━━━━┩\n",
       "│\u001b[36m \u001b[0m\u001b[36mcertbot/certbot               \u001b[0m\u001b[36m \u001b[0m│\u001b[35m \u001b[0m\u001b[35m32480\u001b[0m\u001b[35m \u001b[0m│\u001b[32m \u001b[0m\u001b[32mPython  \u001b[0m\u001b[32m \u001b[0m│\u001b[33m \u001b[0m\u001b[33m2025-09-25\u001b[0m\u001b[33m \u001b[0m│\u001b[31m \u001b[0m\u001b[31m    8\u001b[0m\u001b[31m \u001b[0m│\n",
       "│\u001b[36m \u001b[0m\u001b[36mAlvin9999/new-pac             \u001b[0m\u001b[36m \u001b[0m│\u001b[35m \u001b[0m\u001b[35m68731\u001b[0m\u001b[35m \u001b[0m│\u001b[32m \u001b[0m\u001b[32mPython  \u001b[0m\u001b[32m \u001b[0m│\u001b[33m \u001b[0m\u001b[33m2025-09-25\u001b[0m\u001b[33m \u001b[0m│\u001b[31m \u001b[0m\u001b[31m    8\u001b[0m\u001b[31m \u001b[0m│\n",
       "│\u001b[36m \u001b[0m\u001b[36msstendahl/Graphs              \u001b[0m\u001b[36m \u001b[0m│\u001b[35m \u001b[0m\u001b[35m   68\u001b[0m\u001b[35m \u001b[0m│\u001b[32m \u001b[0m\u001b[32mPython  \u001b[0m\u001b[32m \u001b[0m│\u001b[33m \u001b[0m\u001b[33m2025-09-25\u001b[0m\u001b[33m \u001b[0m│\u001b[31m \u001b[0m\u001b[31m    7\u001b[0m\u001b[31m \u001b[0m│\n",
       "│\u001b[36m \u001b[0m\u001b[36mtruenas/scale-build           \u001b[0m\u001b[36m \u001b[0m│\u001b[35m \u001b[0m\u001b[35m  423\u001b[0m\u001b[35m \u001b[0m│\u001b[32m \u001b[0m\u001b[32mPython  \u001b[0m\u001b[32m \u001b[0m│\u001b[33m \u001b[0m\u001b[33m2025-09-25\u001b[0m\u001b[33m \u001b[0m│\u001b[31m \u001b[0m\u001b[31m    7\u001b[0m\u001b[31m \u001b[0m│\n",
       "│\u001b[36m \u001b[0m\u001b[36mindmdev/Free-Telegram-Store-B…\u001b[0m\u001b[36m \u001b[0m│\u001b[35m \u001b[0m\u001b[35m   63\u001b[0m\u001b[35m \u001b[0m│\u001b[32m \u001b[0m\u001b[32mPython  \u001b[0m\u001b[32m \u001b[0m│\u001b[33m \u001b[0m\u001b[33m2025-09-25\u001b[0m\u001b[33m \u001b[0m│\u001b[31m \u001b[0m\u001b[31m    7\u001b[0m\u001b[31m \u001b[0m│\n",
       "│\u001b[36m \u001b[0m\u001b[36mcompiler-explorer/infra       \u001b[0m\u001b[36m \u001b[0m│\u001b[35m \u001b[0m\u001b[35m  387\u001b[0m\u001b[35m \u001b[0m│\u001b[32m \u001b[0m\u001b[32mPython  \u001b[0m\u001b[32m \u001b[0m│\u001b[33m \u001b[0m\u001b[33m2025-09-25\u001b[0m\u001b[33m \u001b[0m│\u001b[31m \u001b[0m\u001b[31m    7\u001b[0m\u001b[31m \u001b[0m│\n",
       "│\u001b[36m \u001b[0m\u001b[36mLove4vn/love4vn               \u001b[0m\u001b[36m \u001b[0m│\u001b[35m \u001b[0m\u001b[35m  109\u001b[0m\u001b[35m \u001b[0m│\u001b[32m \u001b[0m\u001b[32mPython  \u001b[0m\u001b[32m \u001b[0m│\u001b[33m \u001b[0m\u001b[33m2025-09-25\u001b[0m\u001b[33m \u001b[0m│\u001b[31m \u001b[0m\u001b[31m    6\u001b[0m\u001b[31m \u001b[0m│\n",
       "│\u001b[36m \u001b[0m\u001b[36mmachinegpt/agent              \u001b[0m\u001b[36m \u001b[0m│\u001b[35m \u001b[0m\u001b[35m  277\u001b[0m\u001b[35m \u001b[0m│\u001b[32m \u001b[0m\u001b[32mPython  \u001b[0m\u001b[32m \u001b[0m│\u001b[33m \u001b[0m\u001b[33m2025-09-25\u001b[0m\u001b[33m \u001b[0m│\u001b[31m \u001b[0m\u001b[31m    6\u001b[0m\u001b[31m \u001b[0m│\n",
       "│\u001b[36m \u001b[0m\u001b[36mmitodl/ol-infrastructure      \u001b[0m\u001b[36m \u001b[0m│\u001b[35m \u001b[0m\u001b[35m   52\u001b[0m\u001b[35m \u001b[0m│\u001b[32m \u001b[0m\u001b[32mPython  \u001b[0m\u001b[32m \u001b[0m│\u001b[33m \u001b[0m\u001b[33m2025-09-25\u001b[0m\u001b[33m \u001b[0m│\u001b[31m \u001b[0m\u001b[31m    6\u001b[0m\u001b[31m \u001b[0m│\n",
       "│\u001b[36m \u001b[0m\u001b[36msaint2706/Coding-For-MBA      \u001b[0m\u001b[36m \u001b[0m│\u001b[35m \u001b[0m\u001b[35m   69\u001b[0m\u001b[35m \u001b[0m│\u001b[32m \u001b[0m\u001b[32mPython  \u001b[0m\u001b[32m \u001b[0m│\u001b[33m \u001b[0m\u001b[33m2025-09-25\u001b[0m\u001b[33m \u001b[0m│\u001b[31m \u001b[0m\u001b[31m    5\u001b[0m\u001b[31m \u001b[0m│\n",
       "└────────────────────────────────┴───────┴──────────┴────────────┴───────┘\n"
      ]
     },
     "metadata": {},
     "output_type": "display_data"
    },
    {
     "data": {
      "text/html": [
       "<pre style=\"white-space:pre;overflow-x:auto;line-height:normal;font-family:Menlo,'DejaVu Sans Mono',consolas,'Courier New',monospace\">💾 Saved <span style=\"color: #008080; text-decoration-color: #008080; font-weight: bold\">10</span> repositories to data/discovered_repos.json\n",
       "</pre>\n"
      ],
      "text/plain": [
       "💾 Saved \u001b[1;36m10\u001b[0m repositories to data/discovered_repos.json\n"
      ]
     },
     "metadata": {},
     "output_type": "display_data"
    },
    {
     "name": "stdout",
     "output_type": "stream",
     "text": [
      "\n",
      "✅ Found 10 suitable repositories for contribution!\n"
     ]
    }
   ],
   "source": [
    "# Initialize Scout Agent\n",
    "scout = ScoutAgent(github_token=config.get('GITHUB_TOKEN'))\n",
    "\n",
    "# Define our search criteria\n",
    "search_preferences = {\n",
    "    'languages': ['Python', 'Java'],\n",
    "    'topics': ['data-engineering', 'machine-learning', 'web-development'],\n",
    "    'min_stars': 50,\n",
    "    'max_results': 10\n",
    "}\n",
    "\n",
    "console.print(Panel(\n",
    "    f\"Searching for repositories with:\\n\"\n",
    "    f\"• Languages: {', '.join(search_preferences['languages'])}\\n\"\n",
    "    f\"• Topics: {', '.join(search_preferences['topics'])}\\n\"\n",
    "    f\"• Minimum stars: {search_preferences['min_stars']}\\n\"\n",
    "    f\"• Maximum results: {search_preferences['max_results']}\",\n",
    "    title=\"🔍 Scout Agent - Search Criteria\"\n",
    "))\n",
    "\n",
    "# Discover repositories\n",
    "discovered_repos = scout.discover_repositories(\n",
    "    languages=search_preferences['languages'],\n",
    "    topics=search_preferences['topics'], \n",
    "    min_stars=search_preferences['min_stars'],\n",
    "    max_results=search_preferences['max_results']\n",
    ")\n",
    "\n",
    "# Display results\n",
    "scout.display_repositories(discovered_repos)\n",
    "\n",
    "# Save discovered repositories for other agents\n",
    "scout.save_discovered_repos(discovered_repos)\n",
    "\n",
    "print(f\"\\n✅ Found {len(discovered_repos)} suitable repositories for contribution!\")"
   ]
  },
  {
   "cell_type": "markdown",
   "metadata": {},
   "source": [
    "## Step 2: 📊 Repository Analysis (Analyzer Agent)\n",
    "\n",
    "The Analyzer Agent performs deep analysis of the most promising repository to identify specific contribution opportunities."
   ]
  },
  {
   "cell_type": "code",
   "execution_count": 3,
   "metadata": {},
   "outputs": [
    {
     "data": {
      "text/html": [
       "<pre style=\"white-space:pre;overflow-x:auto;line-height:normal;font-family:Menlo,'DejaVu Sans Mono',consolas,'Courier New',monospace\">╭────────────────────────────────────── 📊 Selected Repository for Analysis ──────────────────────────────────────╮\n",
       "│ <span style=\"color: #008080; text-decoration-color: #008080; font-weight: bold\">certbot/certbot</span>                                                                                                 │\n",
       "│ ⭐ Stars: 32480                                                                                                 │\n",
       "│ 🔧 Language: Python                                                                                             │\n",
       "│ 📊 Contribution Score: 8                                                                                        │\n",
       "│                                                                                                                 │\n",
       "│ Description: Certbot is EFF's tool to obtain certs from Let's Encrypt and (optionally) auto-enable HTTPS on     │\n",
       "│ your server.  It can also act as a client for any other CA that uses the ACME protocol.                         │\n",
       "╰─────────────────────────────────────────────────────────────────────────────────────────────────────────────────╯\n",
       "</pre>\n"
      ],
      "text/plain": [
       "╭────────────────────────────────────── 📊 Selected Repository for Analysis ──────────────────────────────────────╮\n",
       "│ \u001b[1;36mcertbot/certbot\u001b[0m                                                                                                 │\n",
       "│ ⭐ Stars: 32480                                                                                                 │\n",
       "│ 🔧 Language: Python                                                                                             │\n",
       "│ 📊 Contribution Score: 8                                                                                        │\n",
       "│                                                                                                                 │\n",
       "│ Description: Certbot is EFF's tool to obtain certs from Let's Encrypt and (optionally) auto-enable HTTPS on     │\n",
       "│ your server.  It can also act as a client for any other CA that uses the ACME protocol.                         │\n",
       "╰─────────────────────────────────────────────────────────────────────────────────────────────────────────────────╯\n"
      ]
     },
     "metadata": {},
     "output_type": "display_data"
    },
    {
     "data": {
      "text/html": [
       "<pre style=\"white-space:pre;overflow-x:auto;line-height:normal;font-family:Menlo,'DejaVu Sans Mono',consolas,'Courier New',monospace\">🔍 <span style=\"color: #000080; text-decoration-color: #000080; font-weight: bold\">Analyzer Agent: Analyzing certbot/certbot...</span>\n",
       "</pre>\n"
      ],
      "text/plain": [
       "🔍 \u001b[1;34mAnalyzer Agent: Analyzing certbot/certbot\u001b[0m\u001b[1;34m...\u001b[0m\n"
      ]
     },
     "metadata": {},
     "output_type": "display_data"
    },
    {
     "data": {
      "text/html": [
       "<pre style=\"white-space:pre;overflow-x:auto;line-height:normal;font-family:Menlo,'DejaVu Sans Mono',consolas,'Courier New',monospace\">✅ <span style=\"color: #008000; text-decoration-color: #008000; font-weight: bold\">Analysis complete for certbot/certbot</span>\n",
       "</pre>\n"
      ],
      "text/plain": [
       "✅ \u001b[1;32mAnalysis complete for certbot/certbot\u001b[0m\n"
      ]
     },
     "metadata": {},
     "output_type": "display_data"
    },
    {
     "data": {
      "text/html": [
       "<pre style=\"white-space:pre;overflow-x:auto;line-height:normal;font-family:Menlo,'DejaVu Sans Mono',consolas,'Courier New',monospace\">╭──────────────────────────────────────────── 📊 Repository Overview ─────────────────────────────────────────────╮\n",
       "│ <span style=\"color: #008080; text-decoration-color: #008080; font-weight: bold\">certbot/certbot</span>                                                                                                 │\n",
       "│ ⭐ Stars: 32480                                                                                                 │\n",
       "│ 🔧 Language: Python                                                                                             │\n",
       "│ 📊 Health Score: 85/100                                                                                         │\n",
       "╰─────────────────────────────────────────────────────────────────────────────────────────────────────────────────╯\n",
       "</pre>\n"
      ],
      "text/plain": [
       "╭──────────────────────────────────────────── 📊 Repository Overview ─────────────────────────────────────────────╮\n",
       "│ \u001b[1;36mcertbot/certbot\u001b[0m                                                                                                 │\n",
       "│ ⭐ Stars: 32480                                                                                                 │\n",
       "│ 🔧 Language: Python                                                                                             │\n",
       "│ 📊 Health Score: 85/100                                                                                         │\n",
       "╰─────────────────────────────────────────────────────────────────────────────────────────────────────────────────╯\n"
      ]
     },
     "metadata": {},
     "output_type": "display_data"
    },
    {
     "data": {
      "text/html": [
       "<pre style=\"white-space:pre;overflow-x:auto;line-height:normal;font-family:Menlo,'DejaVu Sans Mono',consolas,'Courier New',monospace\">╭────────────────────────────────────────────── 📝 README Analysis ───────────────────────────────────────────────╮\n",
       "│ Status: ⚠️ Needs improvement                                                                                     │\n",
       "│ Quality Score: 20/100                                                                                           │\n",
       "│ Missing Sections: usage, license, testing                                                                       │\n",
       "╰─────────────────────────────────────────────────────────────────────────────────────────────────────────────────╯\n",
       "</pre>\n"
      ],
      "text/plain": [
       "╭────────────────────────────────────────────── 📝 README Analysis ───────────────────────────────────────────────╮\n",
       "│ Status: ⚠️ Needs improvement                                                                                     │\n",
       "│ Quality Score: 20/100                                                                                           │\n",
       "│ Missing Sections: usage, license, testing                                                                       │\n",
       "╰─────────────────────────────────────────────────────────────────────────────────────────────────────────────────╯\n"
      ]
     },
     "metadata": {},
     "output_type": "display_data"
    },
    {
     "data": {
      "text/html": [
       "<pre style=\"white-space:pre;overflow-x:auto;line-height:normal;font-family:Menlo,'DejaVu Sans Mono',consolas,'Courier New',monospace\">╭────────────────────────────────────────────── 🐛 Issues Analysis ───────────────────────────────────────────────╮\n",
       "│ Total Issues: 43                                                                                                │\n",
       "│ Good First Issues: 0                                                                                            │\n",
       "│ Bug Issues: 7                                                                                                   │\n",
       "│ Documentation Issues: 2                                                                                         │\n",
       "╰─────────────────────────────────────────────────────────────────────────────────────────────────────────────────╯\n",
       "</pre>\n"
      ],
      "text/plain": [
       "╭────────────────────────────────────────────── 🐛 Issues Analysis ───────────────────────────────────────────────╮\n",
       "│ Total Issues: 43                                                                                                │\n",
       "│ Good First Issues: 0                                                                                            │\n",
       "│ Bug Issues: 7                                                                                                   │\n",
       "│ Documentation Issues: 2                                                                                         │\n",
       "╰─────────────────────────────────────────────────────────────────────────────────────────────────────────────────╯\n"
      ]
     },
     "metadata": {},
     "output_type": "display_data"
    },
    {
     "data": {
      "text/html": [
       "<pre style=\"white-space:pre;overflow-x:auto;line-height:normal;font-family:Menlo,'DejaVu Sans Mono',consolas,'Courier New',monospace\">╭─────────────────────────────────────── 🎯 Top Contribution Opportunities ───────────────────────────────────────╮\n",
       "│ • Add usage section to README (medium priority)                                                                 │\n",
       "│ • Add license section to README (medium priority)                                                               │\n",
       "│ • Add testing section to README (medium priority)                                                               │\n",
       "╰─────────────────────────────────────────────────────────────────────────────────────────────────────────────────╯\n",
       "</pre>\n"
      ],
      "text/plain": [
       "╭─────────────────────────────────────── 🎯 Top Contribution Opportunities ───────────────────────────────────────╮\n",
       "│ • Add usage section to README (medium priority)                                                                 │\n",
       "│ • Add license section to README (medium priority)                                                               │\n",
       "│ • Add testing section to README (medium priority)                                                               │\n",
       "╰─────────────────────────────────────────────────────────────────────────────────────────────────────────────────╯\n"
      ]
     },
     "metadata": {},
     "output_type": "display_data"
    },
    {
     "name": "stdout",
     "output_type": "stream",
     "text": [
      "\n",
      "✅ Analysis complete! Found 3 opportunities.\n"
     ]
    }
   ],
   "source": [
    "# Initialize Analyzer Agent\n",
    "analyzer = AnalyzerAgent(\n",
    "    github_token=config.get('GITHUB_TOKEN'),\n",
    "    anthropic_api_key=config.get('ANTHROPIC_API_KEY')\n",
    ")\n",
    "\n",
    "# Select the most promising repository (highest scoring one)\n",
    "if discovered_repos:\n",
    "    target_repo = discovered_repos[0]  # Top-scored repository\n",
    "    repo_quick_info = scout.get_repository_quick_info(target_repo)\n",
    "    \n",
    "    console.print(Panel(\n",
    "        f\"[bold cyan]{repo_quick_info['full_name']}[/bold cyan]\\n\"\n",
    "        f\"⭐ Stars: {repo_quick_info['stars']}\\n\"\n",
    "        f\"🔧 Language: {repo_quick_info['language']}\\n\"\n",
    "        f\"📊 Contribution Score: {repo_quick_info['contribution_score']}\\n\\n\"\n",
    "        f\"Description: {repo_quick_info['description'] or 'No description'}\",\n",
    "        title=\"📊 Selected Repository for Analysis\"\n",
    "    ))\n",
    "    \n",
    "    # Perform comprehensive analysis\n",
    "    analysis_result = analyzer.analyze_repository(repo_quick_info)\n",
    "    \n",
    "    # Display analysis results\n",
    "    analyzer.display_analysis(analysis_result)\n",
    "    \n",
    "    print(f\"\\n✅ Analysis complete! Found {len(analysis_result['contribution_opportunities'])} opportunities.\")\n",
    "else:\n",
    "    print(\"❌ No repositories found for analysis. Please check your search criteria.\")"
   ]
  },
  {
   "cell_type": "markdown",
   "metadata": {},
   "source": [
    "## Step 3: 🎯 Contribution Strategy (Strategist Agent)\n",
    "\n",
    "The Strategist Agent creates a detailed plan for contributing to the selected repository."
   ]
  },
  {
   "cell_type": "code",
   "execution_count": 4,
   "metadata": {},
   "outputs": [
    {
     "data": {
      "text/html": [
       "<pre style=\"white-space:pre;overflow-x:auto;line-height:normal;font-family:Menlo,'DejaVu Sans Mono',consolas,'Courier New',monospace\">╭──────────────────────────────────────────── 👤 Contributor Profile ─────────────────────────────────────────────╮\n",
       "│ User Profile:                                                                                                   │\n",
       "│ • Skill Level: Intermediate                                                                                     │\n",
       "│ • Available Time: Medium                                                                                        │\n",
       "│ • Preferred Contribution Types: Documentation, Testing, Bug Fixes                                               │\n",
       "│ • Programming Languages: Python, JavaScript                                                                     │\n",
       "╰─────────────────────────────────────────────────────────────────────────────────────────────────────────────────╯\n",
       "</pre>\n"
      ],
      "text/plain": [
       "╭──────────────────────────────────────────── 👤 Contributor Profile ─────────────────────────────────────────────╮\n",
       "│ User Profile:                                                                                                   │\n",
       "│ • Skill Level: Intermediate                                                                                     │\n",
       "│ • Available Time: Medium                                                                                        │\n",
       "│ • Preferred Contribution Types: Documentation, Testing, Bug Fixes                                               │\n",
       "│ • Programming Languages: Python, JavaScript                                                                     │\n",
       "╰─────────────────────────────────────────────────────────────────────────────────────────────────────────────────╯\n"
      ]
     },
     "metadata": {},
     "output_type": "display_data"
    },
    {
     "data": {
      "text/html": [
       "<pre style=\"white-space:pre;overflow-x:auto;line-height:normal;font-family:Menlo,'DejaVu Sans Mono',consolas,'Courier New',monospace\">🎯 <span style=\"color: #000080; text-decoration-color: #000080; font-weight: bold\">Strategist Agent: Planning contributions for certbot/certbot...</span>\n",
       "</pre>\n"
      ],
      "text/plain": [
       "🎯 \u001b[1;34mStrategist Agent: Planning contributions for certbot/certbot\u001b[0m\u001b[1;34m...\u001b[0m\n"
      ]
     },
     "metadata": {},
     "output_type": "display_data"
    },
    {
     "data": {
      "text/html": [
       "<pre style=\"white-space:pre;overflow-x:auto;line-height:normal;font-family:Menlo,'DejaVu Sans Mono',consolas,'Courier New',monospace\">✅ <span style=\"color: #008000; text-decoration-color: #008000; font-weight: bold\">Strategy created for certbot/certbot</span>\n",
       "</pre>\n"
      ],
      "text/plain": [
       "✅ \u001b[1;32mStrategy created for certbot/certbot\u001b[0m\n"
      ]
     },
     "metadata": {},
     "output_type": "display_data"
    },
    {
     "data": {
      "text/html": [
       "<pre style=\"white-space:pre;overflow-x:auto;line-height:normal;font-family:Menlo,'DejaVu Sans Mono',consolas,'Courier New',monospace\">╭─────────────────────────────────────── 🎯 Contribution Strategy Overview ───────────────────────────────────────╮\n",
       "│ <span style=\"color: #008080; text-decoration-color: #008080; font-weight: bold\">certbot/certbot</span>                                                                                                 │\n",
       "│ 🎯 Success Probability: 87.5%                                                                                   │\n",
       "│ 📊 Health Score: 85/100                                                                                         │\n",
       "│ 🤝 Contributor Friendliness: Somewhat Friendly                                                                  │\n",
       "│ 🔍 Total Opportunities: 3                                                                                       │\n",
       "╰─────────────────────────────────────────────────────────────────────────────────────────────────────────────────╯\n",
       "</pre>\n"
      ],
      "text/plain": [
       "╭─────────────────────────────────────── 🎯 Contribution Strategy Overview ───────────────────────────────────────╮\n",
       "│ \u001b[1;36mcertbot/certbot\u001b[0m                                                                                                 │\n",
       "│ 🎯 Success Probability: 87.5%                                                                                   │\n",
       "│ 📊 Health Score: 85/100                                                                                         │\n",
       "│ 🤝 Contributor Friendliness: Somewhat Friendly                                                                  │\n",
       "│ 🔍 Total Opportunities: 3                                                                                       │\n",
       "╰─────────────────────────────────────────────────────────────────────────────────────────────────────────────────╯\n"
      ]
     },
     "metadata": {},
     "output_type": "display_data"
    },
    {
     "data": {
      "text/html": [
       "<pre style=\"white-space:pre;overflow-x:auto;line-height:normal;font-family:Menlo,'DejaVu Sans Mono',consolas,'Courier New',monospace\"><span style=\"font-style: italic\">                             🏆 Top Contribution Opportunities                              </span>\n",
       "┏━━━━━━━━━━┳━━━━━━━━━━━━━━┳━━━━━━━━━━━━━━━━━━━━━━━━━━━━━━━━━━━━━━━━━━┳━━━━━━━━━━┳━━━━━━━━━━┓\n",
       "┃<span style=\"font-weight: bold\"> Priority </span>┃<span style=\"font-weight: bold\"> Type         </span>┃<span style=\"font-weight: bold\"> Title                                    </span>┃<span style=\"font-weight: bold\"> Effort   </span>┃<span style=\"font-weight: bold\"> Impact   </span>┃\n",
       "┡━━━━━━━━━━╇━━━━━━━━━━━━━━╇━━━━━━━━━━━━━━━━━━━━━━━━━━━━━━━━━━━━━━━━━━╇━━━━━━━━━━╇━━━━━━━━━━┩\n",
       "│<span style=\"color: #800000; text-decoration-color: #800000\"> Medium   </span>│<span style=\"color: #008080; text-decoration-color: #008080\"> Documentati… </span>│<span style=\"color: #008000; text-decoration-color: #008000\"> Add usage section to README              </span>│<span style=\"color: #808000; text-decoration-color: #808000\"> Low      </span>│<span style=\"color: #800080; text-decoration-color: #800080\"> Medium   </span>│\n",
       "│<span style=\"color: #800000; text-decoration-color: #800000\"> Medium   </span>│<span style=\"color: #008080; text-decoration-color: #008080\"> Documentati… </span>│<span style=\"color: #008000; text-decoration-color: #008000\"> Add license section to README            </span>│<span style=\"color: #808000; text-decoration-color: #808000\"> Low      </span>│<span style=\"color: #800080; text-decoration-color: #800080\"> Medium   </span>│\n",
       "│<span style=\"color: #800000; text-decoration-color: #800000\"> Medium   </span>│<span style=\"color: #008080; text-decoration-color: #008080\"> Documentati… </span>│<span style=\"color: #008000; text-decoration-color: #008000\"> Add testing section to README            </span>│<span style=\"color: #808000; text-decoration-color: #808000\"> Low      </span>│<span style=\"color: #800080; text-decoration-color: #800080\"> Medium   </span>│\n",
       "└──────────┴──────────────┴──────────────────────────────────────────┴──────────┴──────────┘\n",
       "</pre>\n"
      ],
      "text/plain": [
       "\u001b[3m                             🏆 Top Contribution Opportunities                              \u001b[0m\n",
       "┏━━━━━━━━━━┳━━━━━━━━━━━━━━┳━━━━━━━━━━━━━━━━━━━━━━━━━━━━━━━━━━━━━━━━━━┳━━━━━━━━━━┳━━━━━━━━━━┓\n",
       "┃\u001b[1m \u001b[0m\u001b[1mPriority\u001b[0m\u001b[1m \u001b[0m┃\u001b[1m \u001b[0m\u001b[1mType        \u001b[0m\u001b[1m \u001b[0m┃\u001b[1m \u001b[0m\u001b[1mTitle                                   \u001b[0m\u001b[1m \u001b[0m┃\u001b[1m \u001b[0m\u001b[1mEffort  \u001b[0m\u001b[1m \u001b[0m┃\u001b[1m \u001b[0m\u001b[1mImpact  \u001b[0m\u001b[1m \u001b[0m┃\n",
       "┡━━━━━━━━━━╇━━━━━━━━━━━━━━╇━━━━━━━━━━━━━━━━━━━━━━━━━━━━━━━━━━━━━━━━━━╇━━━━━━━━━━╇━━━━━━━━━━┩\n",
       "│\u001b[31m \u001b[0m\u001b[31mMedium  \u001b[0m\u001b[31m \u001b[0m│\u001b[36m \u001b[0m\u001b[36mDocumentati…\u001b[0m\u001b[36m \u001b[0m│\u001b[32m \u001b[0m\u001b[32mAdd usage section to README             \u001b[0m\u001b[32m \u001b[0m│\u001b[33m \u001b[0m\u001b[33mLow     \u001b[0m\u001b[33m \u001b[0m│\u001b[35m \u001b[0m\u001b[35mMedium  \u001b[0m\u001b[35m \u001b[0m│\n",
       "│\u001b[31m \u001b[0m\u001b[31mMedium  \u001b[0m\u001b[31m \u001b[0m│\u001b[36m \u001b[0m\u001b[36mDocumentati…\u001b[0m\u001b[36m \u001b[0m│\u001b[32m \u001b[0m\u001b[32mAdd license section to README           \u001b[0m\u001b[32m \u001b[0m│\u001b[33m \u001b[0m\u001b[33mLow     \u001b[0m\u001b[33m \u001b[0m│\u001b[35m \u001b[0m\u001b[35mMedium  \u001b[0m\u001b[35m \u001b[0m│\n",
       "│\u001b[31m \u001b[0m\u001b[31mMedium  \u001b[0m\u001b[31m \u001b[0m│\u001b[36m \u001b[0m\u001b[36mDocumentati…\u001b[0m\u001b[36m \u001b[0m│\u001b[32m \u001b[0m\u001b[32mAdd testing section to README           \u001b[0m\u001b[32m \u001b[0m│\u001b[33m \u001b[0m\u001b[33mLow     \u001b[0m\u001b[33m \u001b[0m│\u001b[35m \u001b[0m\u001b[35mMedium  \u001b[0m\u001b[35m \u001b[0m│\n",
       "└──────────┴──────────────┴──────────────────────────────────────────┴──────────┴──────────┘\n"
      ]
     },
     "metadata": {},
     "output_type": "display_data"
    },
    {
     "data": {
      "text/html": [
       "<pre style=\"white-space:pre;overflow-x:auto;line-height:normal;font-family:Menlo,'DejaVu Sans Mono',consolas,'Courier New',monospace\">╭───────────────────────────────────────────── 📋 Contribution Plan ──────────────────────────────────────────────╮\n",
       "│ <span style=\"font-weight: bold\">1. Add usage section to README</span>                                                                                  │\n",
       "│    📅 Timeline: 1-3 days                                                                                        │\n",
       "│    🎯 Type: Documentation                                                                                       │\n",
       "│                                                                                                                 │\n",
       "│ <span style=\"font-weight: bold\">2. Add license section to README</span>                                                                                │\n",
       "│    📅 Timeline: 1-3 days                                                                                        │\n",
       "│    🎯 Type: Documentation                                                                                       │\n",
       "│                                                                                                                 │\n",
       "│ <span style=\"font-weight: bold\">3. Add testing section to README</span>                                                                                │\n",
       "│    📅 Timeline: 1-3 days                                                                                        │\n",
       "│    🎯 Type: Documentation                                                                                       │\n",
       "╰─────────────────────────────────────────────────────────────────────────────────────────────────────────────────╯\n",
       "</pre>\n"
      ],
      "text/plain": [
       "╭───────────────────────────────────────────── 📋 Contribution Plan ──────────────────────────────────────────────╮\n",
       "│ \u001b[1m1. Add usage section to README\u001b[0m                                                                                  │\n",
       "│    📅 Timeline: 1-3 days                                                                                        │\n",
       "│    🎯 Type: Documentation                                                                                       │\n",
       "│                                                                                                                 │\n",
       "│ \u001b[1m2. Add license section to README\u001b[0m                                                                                │\n",
       "│    📅 Timeline: 1-3 days                                                                                        │\n",
       "│    🎯 Type: Documentation                                                                                       │\n",
       "│                                                                                                                 │\n",
       "│ \u001b[1m3. Add testing section to README\u001b[0m                                                                                │\n",
       "│    📅 Timeline: 1-3 days                                                                                        │\n",
       "│    🎯 Type: Documentation                                                                                       │\n",
       "╰─────────────────────────────────────────────────────────────────────────────────────────────────────────────────╯\n"
      ]
     },
     "metadata": {},
     "output_type": "display_data"
    },
    {
     "data": {
      "text/html": [
       "<pre style=\"white-space:pre;overflow-x:auto;line-height:normal;font-family:Menlo,'DejaVu Sans Mono',consolas,'Courier New',monospace\">╭───────────────────────────────────────── 💡 Strategic Recommendations ──────────────────────────────────────────╮\n",
       "│ • Documentation contributions are likely to be well-received                                                    │\n",
       "│ • Engage with the community through issues before submitting PRs                                                │\n",
       "│ • Follow the project's contribution guidelines carefully                                                        │\n",
       "│ • Start small and build reputation before taking on larger tasks                                                │\n",
       "│ • Prioritize the documentation-related opportunities (adding usage, license, and testing sections to the        │\n",
       "│ README) as they are well-suited to the contributor's skill level and available time.                            │\n",
       "╰─────────────────────────────────────────────────────────────────────────────────────────────────────────────────╯\n",
       "</pre>\n"
      ],
      "text/plain": [
       "╭───────────────────────────────────────── 💡 Strategic Recommendations ──────────────────────────────────────────╮\n",
       "│ • Documentation contributions are likely to be well-received                                                    │\n",
       "│ • Engage with the community through issues before submitting PRs                                                │\n",
       "│ • Follow the project's contribution guidelines carefully                                                        │\n",
       "│ • Start small and build reputation before taking on larger tasks                                                │\n",
       "│ • Prioritize the documentation-related opportunities (adding usage, license, and testing sections to the        │\n",
       "│ README) as they are well-suited to the contributor's skill level and available time.                            │\n",
       "╰─────────────────────────────────────────────────────────────────────────────────────────────────────────────────╯\n"
      ]
     },
     "metadata": {},
     "output_type": "display_data"
    },
    {
     "data": {
      "text/html": [
       "<pre style=\"white-space:pre;overflow-x:auto;line-height:normal;font-family:Menlo,'DejaVu Sans Mono',consolas,'Courier New',monospace\">💾 Strategy saved to data/strategy_certbot_certbot.json\n",
       "</pre>\n"
      ],
      "text/plain": [
       "💾 Strategy saved to data/strategy_certbot_certbot.json\n"
      ]
     },
     "metadata": {},
     "output_type": "display_data"
    },
    {
     "name": "stdout",
     "output_type": "stream",
     "text": [
      "\n",
      "✅ Strategic plan created! Success probability: 87.5%\n"
     ]
    }
   ],
   "source": [
    "# Initialize Strategist Agent\n",
    "strategist = StrategistAgent(anthropic_api_key=config.get('ANTHROPIC_API_KEY'))\n",
    "\n",
    "# Define user preferences for contribution planning\n",
    "user_preferences = {\n",
    "    'skill_level': 'intermediate',\n",
    "    'available_time': 'medium',\n",
    "    'preferred_types': ['documentation', 'testing', 'bug fixes'],\n",
    "    'languages': ['Python', 'JavaScript']\n",
    "}\n",
    "\n",
    "console.print(Panel(\n",
    "    f\"User Profile:\\n\"\n",
    "    f\"• Skill Level: {user_preferences['skill_level'].title()}\\n\"\n",
    "    f\"• Available Time: {user_preferences['available_time'].title()}\\n\"\n",
    "    f\"• Preferred Contribution Types: {', '.join([t.title() for t in user_preferences['preferred_types']])}\\n\"\n",
    "    f\"• Programming Languages: {', '.join(user_preferences['languages'])}\",\n",
    "    title=\"👤 Contributor Profile\"\n",
    "))\n",
    "\n",
    "# Create contribution strategy\n",
    "if 'analysis_result' in locals():\n",
    "    strategy = strategist.create_contribution_strategy(\n",
    "        analysis_result, \n",
    "        user_preferences\n",
    "    )\n",
    "    \n",
    "    # Display strategy\n",
    "    strategist.display_strategy(strategy)\n",
    "    \n",
    "    # Save strategy for the Coder Agent\n",
    "    strategist.save_strategy(strategy)\n",
    "    \n",
    "    print(f\"\\n✅ Strategic plan created! Success probability: {strategy['success_probability']:.1%}\")\n",
    "else:\n",
    "    print(\"❌ No analysis results available for strategy creation.\")"
   ]
  },
  {
   "cell_type": "markdown",
   "metadata": {},
   "source": [
    "## Step 4: 💻 Code Generation (Coder Agent)\n",
    "\n",
    "The Coder Agent generates actual code, documentation, tests, and PR templates for the highest-priority contribution opportunity."
   ]
  },
  {
   "cell_type": "code",
   "execution_count": 5,
   "metadata": {},
   "outputs": [
    {
     "data": {
      "text/html": [
       "<pre style=\"white-space:pre;overflow-x:auto;line-height:normal;font-family:Menlo,'DejaVu Sans Mono',consolas,'Courier New',monospace\">╭──────────────────────────────────── 💻 Generating Code for Top Opportunity ─────────────────────────────────────╮\n",
       "│ <span style=\"color: #008000; text-decoration-color: #008000; font-weight: bold\">Add usage section to README</span>                                                                                     │\n",
       "│                                                                                                                 │\n",
       "│ Type: Documentation                                                                                             │\n",
       "│ Priority: Medium                                                                                                │\n",
       "│ Estimated Timeline: 1-3 days                                                                                    │\n",
       "│ Effort: Low                                                                                                     │\n",
       "│ Impact: Medium                                                                                                  │\n",
       "╰─────────────────────────────────────────────────────────────────────────────────────────────────────────────────╯\n",
       "</pre>\n"
      ],
      "text/plain": [
       "╭──────────────────────────────────── 💻 Generating Code for Top Opportunity ─────────────────────────────────────╮\n",
       "│ \u001b[1;32mAdd usage section to README\u001b[0m                                                                                     │\n",
       "│                                                                                                                 │\n",
       "│ Type: Documentation                                                                                             │\n",
       "│ Priority: Medium                                                                                                │\n",
       "│ Estimated Timeline: 1-3 days                                                                                    │\n",
       "│ Effort: Low                                                                                                     │\n",
       "│ Impact: Medium                                                                                                  │\n",
       "╰─────────────────────────────────────────────────────────────────────────────────────────────────────────────────╯\n"
      ]
     },
     "metadata": {},
     "output_type": "display_data"
    },
    {
     "data": {
      "text/html": [
       "<pre style=\"white-space:pre;overflow-x:auto;line-height:normal;font-family:Menlo,'DejaVu Sans Mono',consolas,'Courier New',monospace\">💻 <span style=\"color: #000080; text-decoration-color: #000080; font-weight: bold\">Coder Agent: Generating contribution for </span><span style=\"color: #000080; text-decoration-color: #000080; font-weight: bold\">'Add usage section to README'</span><span style=\"color: #000080; text-decoration-color: #000080; font-weight: bold\">...</span>\n",
       "</pre>\n"
      ],
      "text/plain": [
       "💻 \u001b[1;34mCoder Agent: Generating contribution for \u001b[0m\u001b[1;34m'Add usage section to README'\u001b[0m\u001b[1;34m...\u001b[0m\n"
      ]
     },
     "metadata": {},
     "output_type": "display_data"
    },
    {
     "data": {
      "text/html": [
       "<pre style=\"white-space:pre;overflow-x:auto;line-height:normal;font-family:Menlo,'DejaVu Sans Mono',consolas,'Courier New',monospace\">✅ <span style=\"color: #008000; text-decoration-color: #008000; font-weight: bold\">Contribution generated successfully!</span>\n",
       "</pre>\n"
      ],
      "text/plain": [
       "✅ \u001b[1;32mContribution generated successfully!\u001b[0m\n"
      ]
     },
     "metadata": {},
     "output_type": "display_data"
    },
    {
     "data": {
      "text/html": [
       "<pre style=\"white-space:pre;overflow-x:auto;line-height:normal;font-family:Menlo,'DejaVu Sans Mono',consolas,'Courier New',monospace\">╭─────────────────────────────────────────── 💻 Generated Contribution ───────────────────────────────────────────╮\n",
       "│ <span style=\"color: #008080; text-decoration-color: #008080; font-weight: bold\">Add usage section to README</span>                                                                                     │\n",
       "│ Type: Documentation                                                                                             │\n",
       "│ Repository: certbot/certbot                                                                                     │\n",
       "│ Priority: Medium                                                                                                │\n",
       "╰─────────────────────────────────────────────────────────────────────────────────────────────────────────────────╯\n",
       "</pre>\n"
      ],
      "text/plain": [
       "╭─────────────────────────────────────────── 💻 Generated Contribution ───────────────────────────────────────────╮\n",
       "│ \u001b[1;36mAdd usage section to README\u001b[0m                                                                                     │\n",
       "│ Type: Documentation                                                                                             │\n",
       "│ Repository: certbot/certbot                                                                                     │\n",
       "│ Priority: Medium                                                                                                │\n",
       "╰─────────────────────────────────────────────────────────────────────────────────────────────────────────────────╯\n"
      ]
     },
     "metadata": {},
     "output_type": "display_data"
    },
    {
     "data": {
      "text/html": [
       "<pre style=\"white-space:pre;overflow-x:auto;line-height:normal;font-family:Menlo,'DejaVu Sans Mono',consolas,'Courier New',monospace\">╭──────────────────────────────────────────────── 📁 File Changes ────────────────────────────────────────────────╮\n",
       "│ **Files to Modify:**                                                                                            │\n",
       "│ - README.md                                                                                                     │\n",
       "╰─────────────────────────────────────────────────────────────────────────────────────────────────────────────────╯\n",
       "</pre>\n"
      ],
      "text/plain": [
       "╭──────────────────────────────────────────────── 📁 File Changes ────────────────────────────────────────────────╮\n",
       "│ **Files to Modify:**                                                                                            │\n",
       "│ - README.md                                                                                                     │\n",
       "╰─────────────────────────────────────────────────────────────────────────────────────────────────────────────────╯\n"
      ]
     },
     "metadata": {},
     "output_type": "display_data"
    },
    {
     "data": {
      "text/html": [
       "<pre style=\"white-space:pre;overflow-x:auto;line-height:normal;font-family:Menlo,'DejaVu Sans Mono',consolas,'Courier New',monospace\">╭────────────────────────────────────────── 📝 Generated Documentation ───────────────────────────────────────────╮\n",
       "│ <span style=\"color: #e3e3dd; text-decoration-color: #e3e3dd; background-color: #272822; font-weight: bold\">  </span><span style=\"color: #656660; text-decoration-color: #656660; background-color: #272822\"> 1 </span><span style=\"color: #959077; text-decoration-color: #959077; background-color: #272822\">## Usage</span><span style=\"background-color: #272822\">                                                                                                  </span> │\n",
       "│ <span style=\"color: #e3e3dd; text-decoration-color: #e3e3dd; background-color: #272822; font-weight: bold\">  </span><span style=\"color: #656660; text-decoration-color: #656660; background-color: #272822\"> 2 </span><span style=\"background-color: #272822\">                                                                                                          </span> │\n",
       "│ <span style=\"color: #e3e3dd; text-decoration-color: #e3e3dd; background-color: #272822; font-weight: bold\">  </span><span style=\"color: #656660; text-decoration-color: #656660; background-color: #272822\"> 3 </span><span style=\"color: #959077; text-decoration-color: #959077; background-color: #272822\">### Basic Example</span><span style=\"background-color: #272822\">                                                                                         </span> │\n",
       "│ <span style=\"color: #e3e3dd; text-decoration-color: #e3e3dd; background-color: #272822; font-weight: bold\">  </span><span style=\"color: #656660; text-decoration-color: #656660; background-color: #272822\"> 4 </span><span style=\"color: #e6db74; text-decoration-color: #e6db74; background-color: #272822\">```python</span><span style=\"background-color: #272822\">                                                                                                 </span> │\n",
       "│ <span style=\"color: #e3e3dd; text-decoration-color: #e3e3dd; background-color: #272822; font-weight: bold\">  </span><span style=\"color: #656660; text-decoration-color: #656660; background-color: #272822\"> 5 </span><span style=\"color: #ff4689; text-decoration-color: #ff4689; background-color: #272822\">import</span><span style=\"color: #f8f8f2; text-decoration-color: #f8f8f2; background-color: #272822\"> certbot</span><span style=\"background-color: #272822\">                                                                                            </span> │\n",
       "│ <span style=\"color: #e3e3dd; text-decoration-color: #e3e3dd; background-color: #272822; font-weight: bold\">  </span><span style=\"color: #656660; text-decoration-color: #656660; background-color: #272822\"> 6 </span><span style=\"background-color: #272822\">                                                                                                          </span> │\n",
       "│ <span style=\"color: #e3e3dd; text-decoration-color: #e3e3dd; background-color: #272822; font-weight: bold\">  </span><span style=\"color: #656660; text-decoration-color: #656660; background-color: #272822\"> 7 </span><span style=\"color: #959077; text-decoration-color: #959077; background-color: #272822\"># Initialize the main component</span><span style=\"background-color: #272822\">                                                                           </span> │\n",
       "│ <span style=\"color: #e3e3dd; text-decoration-color: #e3e3dd; background-color: #272822; font-weight: bold\">  </span><span style=\"color: #656660; text-decoration-color: #656660; background-color: #272822\"> 8 </span><span style=\"color: #f8f8f2; text-decoration-color: #f8f8f2; background-color: #272822\">client </span><span style=\"color: #ff4689; text-decoration-color: #ff4689; background-color: #272822\">=</span><span style=\"color: #f8f8f2; text-decoration-color: #f8f8f2; background-color: #272822\"> certbot</span><span style=\"color: #ff4689; text-decoration-color: #ff4689; background-color: #272822\">.</span><span style=\"color: #f8f8f2; text-decoration-color: #f8f8f2; background-color: #272822\">Client()</span><span style=\"background-color: #272822\">                                                                                 </span> │\n",
       "│ <span style=\"color: #e3e3dd; text-decoration-color: #e3e3dd; background-color: #272822; font-weight: bold\">  </span><span style=\"color: #656660; text-decoration-color: #656660; background-color: #272822\"> 9 </span><span style=\"background-color: #272822\">                                                                                                          </span> │\n",
       "│ <span style=\"color: #e3e3dd; text-decoration-color: #e3e3dd; background-color: #272822; font-weight: bold\">  </span><span style=\"color: #656660; text-decoration-color: #656660; background-color: #272822\">10 </span><span style=\"color: #959077; text-decoration-color: #959077; background-color: #272822\"># Perform basic operations</span><span style=\"background-color: #272822\">                                                                                </span> │\n",
       "│ <span style=\"color: #e3e3dd; text-decoration-color: #e3e3dd; background-color: #272822; font-weight: bold\">  </span><span style=\"color: #656660; text-decoration-color: #656660; background-color: #272822\">11 </span><span style=\"color: #f8f8f2; text-decoration-color: #f8f8f2; background-color: #272822\">result </span><span style=\"color: #ff4689; text-decoration-color: #ff4689; background-color: #272822\">=</span><span style=\"color: #f8f8f2; text-decoration-color: #f8f8f2; background-color: #272822\"> client</span><span style=\"color: #ff4689; text-decoration-color: #ff4689; background-color: #272822\">.</span><span style=\"color: #f8f8f2; text-decoration-color: #f8f8f2; background-color: #272822\">process_data(your_data)</span><span style=\"background-color: #272822\">                                                                   </span> │\n",
       "│ <span style=\"color: #e3e3dd; text-decoration-color: #e3e3dd; background-color: #272822; font-weight: bold\">  </span><span style=\"color: #656660; text-decoration-color: #656660; background-color: #272822\">12 </span><span style=\"color: #f8f8f2; text-decoration-color: #f8f8f2; background-color: #272822\">print(result)</span><span style=\"background-color: #272822\">                                                                                             </span> │\n",
       "│ <span style=\"color: #e3e3dd; text-decoration-color: #e3e3dd; background-color: #272822; font-weight: bold\">  </span><span style=\"color: #656660; text-decoration-color: #656660; background-color: #272822\">13 </span><span style=\"color: #e6db74; text-decoration-color: #e6db74; background-color: #272822\">```</span><span style=\"background-color: #272822\">                                                                                                       </span> │\n",
       "│ <span style=\"color: #e3e3dd; text-decoration-color: #e3e3dd; background-color: #272822; font-weight: bold\">  </span><span style=\"color: #656660; text-decoration-color: #656660; background-color: #272822\">14 </span><span style=\"background-color: #272822\">                                                                                                          </span> │\n",
       "│ <span style=\"color: #e3e3dd; text-decoration-color: #e3e3dd; background-color: #272822; font-weight: bold\">  </span><span style=\"color: #656660; text-decoration-color: #656660; background-color: #272822\">15 </span><span style=\"color: #959077; text-decoration-color: #959077; background-color: #272822\">### Advanced Usage</span><span style=\"background-color: #272822\">                                                                                        </span> │\n",
       "│ <span style=\"color: #e3e3dd; text-decoration-color: #e3e3dd; background-color: #272822; font-weight: bold\">  </span><span style=\"color: #656660; text-decoration-color: #656660; background-color: #272822\">16 </span><span style=\"color: #f8f8f2; text-decoration-color: #f8f8f2; background-color: #272822\">```python</span><span style=\"background-color: #272822\">                                                                                                 </span> │\n",
       "│ <span style=\"color: #e3e3dd; text-decoration-color: #e3e3dd; background-color: #272822; font-weight: bold\">  </span><span style=\"color: #656660; text-decoration-color: #656660; background-color: #272822\">17 </span><span style=\"color: #f8f8f2; text-decoration-color: #f8f8f2; background-color: #272822\">from certbot import Config, Processor</span><span style=\"background-color: #272822\">                                                                     </span> │\n",
       "│ <span style=\"color: #e3e3dd; text-decoration-color: #e3e3dd; background-color: #272822; font-weight: bold\">  </span><span style=\"color: #656660; text-decoration-color: #656660; background-color: #272822\">18 </span><span style=\"background-color: #272822\">                                                                                                          </span> │\n",
       "│ <span style=\"color: #e3e3dd; text-decoration-color: #e3e3dd; background-color: #272822; font-weight: bold\">  </span><span style=\"color: #656660; text-decoration-color: #656660; background-color: #272822\">19 </span><span style=\"color: #f8f8f2; text-decoration-color: #f8f8f2; background-color: #272822\"># Configure with custom settings</span><span style=\"background-color: #272822\">                                                                          </span> │\n",
       "│ <span style=\"color: #e3e3dd; text-decoration-color: #e3e3dd; background-color: #272822; font-weight: bold\">  </span><span style=\"color: #656660; text-decoration-color: #656660; background-color: #272822\">20 </span><span style=\"color: #f8f8f2; text-decoration-color: #f8f8f2; background-color: #272822\">config = Config(</span><span style=\"background-color: #272822\">                                                                                          </span> │\n",
       "│ <span style=\"color: #e3e3dd; text-decoration-color: #e3e3dd; background-color: #272822; font-weight: bold\">  </span><span style=\"color: #656660; text-decoration-color: #656660; background-color: #272822\">21 </span><span style=\"color: #f8f8f2; text-decoration-color: #f8f8f2; background-color: #272822\">    option1=\"value1\",</span><span style=\"background-color: #272822\">                                                                                     </span> │\n",
       "│ <span style=\"color: #e3e3dd; text-decoration-color: #e3e3dd; background-color: #272822; font-weight: bold\">  </span><span style=\"color: #656660; text-decoration-color: #656660; background-color: #272822\">22 </span><span style=\"color: #f8f8f2; text-decoration-color: #f8f8f2; background-color: #272822\">    option2=\"value2\"</span><span style=\"background-color: #272822\">                                                                                      </span> │\n",
       "│ <span style=\"color: #e3e3dd; text-decoration-color: #e3e3dd; background-color: #272822; font-weight: bold\">  </span><span style=\"color: #656660; text-decoration-color: #656660; background-color: #272822\">23 </span><span style=\"color: #f8f8f2; text-decoration-color: #f8f8f2; background-color: #272822\">)</span><span style=\"background-color: #272822\">                                                                                                         </span> │\n",
       "│ <span style=\"color: #e3e3dd; text-decoration-color: #e3e3dd; background-color: #272822; font-weight: bold\">  </span><span style=\"color: #656660; text-decoration-color: #656660; background-color: #272822\">24 </span><span style=\"background-color: #272822\">                                                                                                          </span> │\n",
       "│ <span style=\"color: #e3e3dd; text-decoration-color: #e3e3dd; background-color: #272822; font-weight: bold\">  </span><span style=\"color: #656660; text-decoration-color: #656660; background-color: #272822\">25 </span><span style=\"color: #f8f8f2; text-decoration-color: #f8f8f2; background-color: #272822\"># Use advanced features</span><span style=\"background-color: #272822\">                                                                                   </span> │\n",
       "│ <span style=\"color: #e3e3dd; text-decoration-color: #e3e3dd; background-color: #272822; font-weight: bold\">  </span><span style=\"color: #656660; text-decoration-color: #656660; background-color: #272822\">26 </span><span style=\"color: #f8f8f2; text-decoration-color: #f8f8f2; background-color: #272822\">processor = Processor(config)</span><span style=\"background-color: #272822\">                                                                             </span> │\n",
       "│ <span style=\"color: #e3e3dd; text-decoration-color: #e3e3dd; background-color: #272822; font-weight: bold\">  </span><span style=\"color: #656660; text-decoration-color: #656660; background-color: #272822\">27 </span><span style=\"color: #f8f8f2; text-decoration-color: #f8f8f2; background-color: #272822\">results = processor.batch_process(data_list)</span><span style=\"background-color: #272822\">                                                              </span> │\n",
       "│ <span style=\"color: #e3e3dd; text-decoration-color: #e3e3dd; background-color: #272822; font-weight: bold\">  </span><span style=\"color: #656660; text-decoration-color: #656660; background-color: #272822\">28 </span><span style=\"background-color: #272822\">                                                                                                          </span> │\n",
       "│ <span style=\"color: #e3e3dd; text-decoration-color: #e3e3dd; background-color: #272822; font-weight: bold\">  </span><span style=\"color: #656660; text-decoration-color: #656660; background-color: #272822\">29 </span><span style=\"color: #f8f8f2; text-decoration-color: #f8f8f2; background-color: #272822\">for result in results:</span><span style=\"background-color: #272822\">                                                                                    </span> │\n",
       "│ <span style=\"color: #e3e3dd; text-decoration-color: #e3e3dd; background-color: #272822; font-weight: bold\">  </span><span style=\"color: #656660; text-decoration-color: #656660; background-color: #272822\">30 </span><span style=\"color: #f8f8f2; text-decoration-color: #f8f8f2; background-color: #272822\">    print(f\"Pr...</span><span style=\"background-color: #272822\">                                                                                         </span> │\n",
       "╰─────────────────────────────────────────────────────────────────────────────────────────────────────────────────╯\n",
       "</pre>\n"
      ],
      "text/plain": [
       "╭────────────────────────────────────────── 📝 Generated Documentation ───────────────────────────────────────────╮\n",
       "│ \u001b[1;38;2;227;227;221;48;2;39;40;34m  \u001b[0m\u001b[38;2;101;102;96;48;2;39;40;34m 1 \u001b[0m\u001b[38;2;149;144;119;48;2;39;40;34m## Usage\u001b[0m\u001b[48;2;39;40;34m                                                                                                  \u001b[0m │\n",
       "│ \u001b[1;38;2;227;227;221;48;2;39;40;34m  \u001b[0m\u001b[38;2;101;102;96;48;2;39;40;34m 2 \u001b[0m\u001b[48;2;39;40;34m                                                                                                          \u001b[0m │\n",
       "│ \u001b[1;38;2;227;227;221;48;2;39;40;34m  \u001b[0m\u001b[38;2;101;102;96;48;2;39;40;34m 3 \u001b[0m\u001b[38;2;149;144;119;48;2;39;40;34m### Basic Example\u001b[0m\u001b[48;2;39;40;34m                                                                                         \u001b[0m │\n",
       "│ \u001b[1;38;2;227;227;221;48;2;39;40;34m  \u001b[0m\u001b[38;2;101;102;96;48;2;39;40;34m 4 \u001b[0m\u001b[38;2;230;219;116;48;2;39;40;34m```\u001b[0m\u001b[38;2;230;219;116;48;2;39;40;34mpython\u001b[0m\u001b[48;2;39;40;34m                                                                                                 \u001b[0m │\n",
       "│ \u001b[1;38;2;227;227;221;48;2;39;40;34m  \u001b[0m\u001b[38;2;101;102;96;48;2;39;40;34m 5 \u001b[0m\u001b[38;2;255;70;137;48;2;39;40;34mimport\u001b[0m\u001b[38;2;248;248;242;48;2;39;40;34m \u001b[0m\u001b[38;2;248;248;242;48;2;39;40;34mcertbot\u001b[0m\u001b[48;2;39;40;34m                                                                                            \u001b[0m │\n",
       "│ \u001b[1;38;2;227;227;221;48;2;39;40;34m  \u001b[0m\u001b[38;2;101;102;96;48;2;39;40;34m 6 \u001b[0m\u001b[48;2;39;40;34m                                                                                                          \u001b[0m │\n",
       "│ \u001b[1;38;2;227;227;221;48;2;39;40;34m  \u001b[0m\u001b[38;2;101;102;96;48;2;39;40;34m 7 \u001b[0m\u001b[38;2;149;144;119;48;2;39;40;34m# Initialize the main component\u001b[0m\u001b[48;2;39;40;34m                                                                           \u001b[0m │\n",
       "│ \u001b[1;38;2;227;227;221;48;2;39;40;34m  \u001b[0m\u001b[38;2;101;102;96;48;2;39;40;34m 8 \u001b[0m\u001b[38;2;248;248;242;48;2;39;40;34mclient\u001b[0m\u001b[38;2;248;248;242;48;2;39;40;34m \u001b[0m\u001b[38;2;255;70;137;48;2;39;40;34m=\u001b[0m\u001b[38;2;248;248;242;48;2;39;40;34m \u001b[0m\u001b[38;2;248;248;242;48;2;39;40;34mcertbot\u001b[0m\u001b[38;2;255;70;137;48;2;39;40;34m.\u001b[0m\u001b[38;2;248;248;242;48;2;39;40;34mClient\u001b[0m\u001b[38;2;248;248;242;48;2;39;40;34m(\u001b[0m\u001b[38;2;248;248;242;48;2;39;40;34m)\u001b[0m\u001b[48;2;39;40;34m                                                                                 \u001b[0m │\n",
       "│ \u001b[1;38;2;227;227;221;48;2;39;40;34m  \u001b[0m\u001b[38;2;101;102;96;48;2;39;40;34m 9 \u001b[0m\u001b[48;2;39;40;34m                                                                                                          \u001b[0m │\n",
       "│ \u001b[1;38;2;227;227;221;48;2;39;40;34m  \u001b[0m\u001b[38;2;101;102;96;48;2;39;40;34m10 \u001b[0m\u001b[38;2;149;144;119;48;2;39;40;34m# Perform basic operations\u001b[0m\u001b[48;2;39;40;34m                                                                                \u001b[0m │\n",
       "│ \u001b[1;38;2;227;227;221;48;2;39;40;34m  \u001b[0m\u001b[38;2;101;102;96;48;2;39;40;34m11 \u001b[0m\u001b[38;2;248;248;242;48;2;39;40;34mresult\u001b[0m\u001b[38;2;248;248;242;48;2;39;40;34m \u001b[0m\u001b[38;2;255;70;137;48;2;39;40;34m=\u001b[0m\u001b[38;2;248;248;242;48;2;39;40;34m \u001b[0m\u001b[38;2;248;248;242;48;2;39;40;34mclient\u001b[0m\u001b[38;2;255;70;137;48;2;39;40;34m.\u001b[0m\u001b[38;2;248;248;242;48;2;39;40;34mprocess_data\u001b[0m\u001b[38;2;248;248;242;48;2;39;40;34m(\u001b[0m\u001b[38;2;248;248;242;48;2;39;40;34myour_data\u001b[0m\u001b[38;2;248;248;242;48;2;39;40;34m)\u001b[0m\u001b[48;2;39;40;34m                                                                   \u001b[0m │\n",
       "│ \u001b[1;38;2;227;227;221;48;2;39;40;34m  \u001b[0m\u001b[38;2;101;102;96;48;2;39;40;34m12 \u001b[0m\u001b[38;2;248;248;242;48;2;39;40;34mprint\u001b[0m\u001b[38;2;248;248;242;48;2;39;40;34m(\u001b[0m\u001b[38;2;248;248;242;48;2;39;40;34mresult\u001b[0m\u001b[38;2;248;248;242;48;2;39;40;34m)\u001b[0m\u001b[48;2;39;40;34m                                                                                             \u001b[0m │\n",
       "│ \u001b[1;38;2;227;227;221;48;2;39;40;34m  \u001b[0m\u001b[38;2;101;102;96;48;2;39;40;34m13 \u001b[0m\u001b[38;2;230;219;116;48;2;39;40;34m```\u001b[0m\u001b[48;2;39;40;34m                                                                                                       \u001b[0m │\n",
       "│ \u001b[1;38;2;227;227;221;48;2;39;40;34m  \u001b[0m\u001b[38;2;101;102;96;48;2;39;40;34m14 \u001b[0m\u001b[48;2;39;40;34m                                                                                                          \u001b[0m │\n",
       "│ \u001b[1;38;2;227;227;221;48;2;39;40;34m  \u001b[0m\u001b[38;2;101;102;96;48;2;39;40;34m15 \u001b[0m\u001b[38;2;149;144;119;48;2;39;40;34m### Advanced Usage\u001b[0m\u001b[48;2;39;40;34m                                                                                        \u001b[0m │\n",
       "│ \u001b[1;38;2;227;227;221;48;2;39;40;34m  \u001b[0m\u001b[38;2;101;102;96;48;2;39;40;34m16 \u001b[0m\u001b[38;2;248;248;242;48;2;39;40;34m```python\u001b[0m\u001b[48;2;39;40;34m                                                                                                 \u001b[0m │\n",
       "│ \u001b[1;38;2;227;227;221;48;2;39;40;34m  \u001b[0m\u001b[38;2;101;102;96;48;2;39;40;34m17 \u001b[0m\u001b[38;2;248;248;242;48;2;39;40;34mfrom\u001b[0m\u001b[38;2;248;248;242;48;2;39;40;34m \u001b[0m\u001b[38;2;248;248;242;48;2;39;40;34mcertbot\u001b[0m\u001b[38;2;248;248;242;48;2;39;40;34m \u001b[0m\u001b[38;2;248;248;242;48;2;39;40;34mimport\u001b[0m\u001b[38;2;248;248;242;48;2;39;40;34m \u001b[0m\u001b[38;2;248;248;242;48;2;39;40;34mConfig,\u001b[0m\u001b[38;2;248;248;242;48;2;39;40;34m \u001b[0m\u001b[38;2;248;248;242;48;2;39;40;34mProcessor\u001b[0m\u001b[48;2;39;40;34m                                                                     \u001b[0m │\n",
       "│ \u001b[1;38;2;227;227;221;48;2;39;40;34m  \u001b[0m\u001b[38;2;101;102;96;48;2;39;40;34m18 \u001b[0m\u001b[48;2;39;40;34m                                                                                                          \u001b[0m │\n",
       "│ \u001b[1;38;2;227;227;221;48;2;39;40;34m  \u001b[0m\u001b[38;2;101;102;96;48;2;39;40;34m19 \u001b[0m\u001b[38;2;248;248;242;48;2;39;40;34m# Configure with custom settings\u001b[0m\u001b[48;2;39;40;34m                                                                          \u001b[0m │\n",
       "│ \u001b[1;38;2;227;227;221;48;2;39;40;34m  \u001b[0m\u001b[38;2;101;102;96;48;2;39;40;34m20 \u001b[0m\u001b[38;2;248;248;242;48;2;39;40;34mconfig\u001b[0m\u001b[38;2;248;248;242;48;2;39;40;34m \u001b[0m\u001b[38;2;248;248;242;48;2;39;40;34m=\u001b[0m\u001b[38;2;248;248;242;48;2;39;40;34m \u001b[0m\u001b[38;2;248;248;242;48;2;39;40;34mConfig(\u001b[0m\u001b[48;2;39;40;34m                                                                                          \u001b[0m │\n",
       "│ \u001b[1;38;2;227;227;221;48;2;39;40;34m  \u001b[0m\u001b[38;2;101;102;96;48;2;39;40;34m21 \u001b[0m\u001b[38;2;248;248;242;48;2;39;40;34m \u001b[0m\u001b[38;2;248;248;242;48;2;39;40;34m \u001b[0m\u001b[38;2;248;248;242;48;2;39;40;34m \u001b[0m\u001b[38;2;248;248;242;48;2;39;40;34m \u001b[0m\u001b[38;2;248;248;242;48;2;39;40;34moption1=\"value1\",\u001b[0m\u001b[48;2;39;40;34m                                                                                     \u001b[0m │\n",
       "│ \u001b[1;38;2;227;227;221;48;2;39;40;34m  \u001b[0m\u001b[38;2;101;102;96;48;2;39;40;34m22 \u001b[0m\u001b[38;2;248;248;242;48;2;39;40;34m \u001b[0m\u001b[38;2;248;248;242;48;2;39;40;34m \u001b[0m\u001b[38;2;248;248;242;48;2;39;40;34m \u001b[0m\u001b[38;2;248;248;242;48;2;39;40;34m \u001b[0m\u001b[38;2;248;248;242;48;2;39;40;34moption2=\"value2\"\u001b[0m\u001b[48;2;39;40;34m                                                                                      \u001b[0m │\n",
       "│ \u001b[1;38;2;227;227;221;48;2;39;40;34m  \u001b[0m\u001b[38;2;101;102;96;48;2;39;40;34m23 \u001b[0m\u001b[38;2;248;248;242;48;2;39;40;34m)\u001b[0m\u001b[48;2;39;40;34m                                                                                                         \u001b[0m │\n",
       "│ \u001b[1;38;2;227;227;221;48;2;39;40;34m  \u001b[0m\u001b[38;2;101;102;96;48;2;39;40;34m24 \u001b[0m\u001b[48;2;39;40;34m                                                                                                          \u001b[0m │\n",
       "│ \u001b[1;38;2;227;227;221;48;2;39;40;34m  \u001b[0m\u001b[38;2;101;102;96;48;2;39;40;34m25 \u001b[0m\u001b[38;2;248;248;242;48;2;39;40;34m# Use advanced features\u001b[0m\u001b[48;2;39;40;34m                                                                                   \u001b[0m │\n",
       "│ \u001b[1;38;2;227;227;221;48;2;39;40;34m  \u001b[0m\u001b[38;2;101;102;96;48;2;39;40;34m26 \u001b[0m\u001b[38;2;248;248;242;48;2;39;40;34mprocessor\u001b[0m\u001b[38;2;248;248;242;48;2;39;40;34m \u001b[0m\u001b[38;2;248;248;242;48;2;39;40;34m=\u001b[0m\u001b[38;2;248;248;242;48;2;39;40;34m \u001b[0m\u001b[38;2;248;248;242;48;2;39;40;34mProcessor(config)\u001b[0m\u001b[48;2;39;40;34m                                                                             \u001b[0m │\n",
       "│ \u001b[1;38;2;227;227;221;48;2;39;40;34m  \u001b[0m\u001b[38;2;101;102;96;48;2;39;40;34m27 \u001b[0m\u001b[38;2;248;248;242;48;2;39;40;34mresults\u001b[0m\u001b[38;2;248;248;242;48;2;39;40;34m \u001b[0m\u001b[38;2;248;248;242;48;2;39;40;34m=\u001b[0m\u001b[38;2;248;248;242;48;2;39;40;34m \u001b[0m\u001b[38;2;248;248;242;48;2;39;40;34mprocessor.batch_process(data_list)\u001b[0m\u001b[48;2;39;40;34m                                                              \u001b[0m │\n",
       "│ \u001b[1;38;2;227;227;221;48;2;39;40;34m  \u001b[0m\u001b[38;2;101;102;96;48;2;39;40;34m28 \u001b[0m\u001b[48;2;39;40;34m                                                                                                          \u001b[0m │\n",
       "│ \u001b[1;38;2;227;227;221;48;2;39;40;34m  \u001b[0m\u001b[38;2;101;102;96;48;2;39;40;34m29 \u001b[0m\u001b[38;2;248;248;242;48;2;39;40;34mfor\u001b[0m\u001b[38;2;248;248;242;48;2;39;40;34m \u001b[0m\u001b[38;2;248;248;242;48;2;39;40;34mresult\u001b[0m\u001b[38;2;248;248;242;48;2;39;40;34m \u001b[0m\u001b[38;2;248;248;242;48;2;39;40;34min\u001b[0m\u001b[38;2;248;248;242;48;2;39;40;34m \u001b[0m\u001b[38;2;248;248;242;48;2;39;40;34mresults:\u001b[0m\u001b[48;2;39;40;34m                                                                                    \u001b[0m │\n",
       "│ \u001b[1;38;2;227;227;221;48;2;39;40;34m  \u001b[0m\u001b[38;2;101;102;96;48;2;39;40;34m30 \u001b[0m\u001b[38;2;248;248;242;48;2;39;40;34m \u001b[0m\u001b[38;2;248;248;242;48;2;39;40;34m \u001b[0m\u001b[38;2;248;248;242;48;2;39;40;34m \u001b[0m\u001b[38;2;248;248;242;48;2;39;40;34m \u001b[0m\u001b[38;2;248;248;242;48;2;39;40;34mprint(f\"Pr...\u001b[0m\u001b[48;2;39;40;34m                                                                                         \u001b[0m │\n",
       "╰─────────────────────────────────────────────────────────────────────────────────────────────────────────────────╯\n"
      ]
     },
     "metadata": {},
     "output_type": "display_data"
    },
    {
     "data": {
      "text/html": [
       "<pre style=\"white-space:pre;overflow-x:auto;line-height:normal;font-family:Menlo,'DejaVu Sans Mono',consolas,'Courier New',monospace\">╭─────────────────────────────────────────── 🔀 Pull Request Template ────────────────────────────────────────────╮\n",
       "│ **Title:** Documentation: Add usage section to README                                                           │\n",
       "│                                                                                                                 │\n",
       "│ **Labels:** documentation, improvement                                                                          │\n",
       "│                                                                                                                 │\n",
       "│ **Description Preview:**                                                                                        │\n",
       "│ ## Summary                                                                                                      │\n",
       "│ This PR adds/improves documentation for Add usage section to README.                                            │\n",
       "│                                                                                                                 │\n",
       "│ ## Changes Made                                                                                                 │\n",
       "│ - Added comprehensive documentation section                                                                     │\n",
       "│ - Included practical examples and code snippets                                                                 │\n",
       "│ - Followed project's documentation style and formatting                                                         │\n",
       "│                                                                                                                 │\n",
       "│ ## Motivation                                                                                                   │\n",
       "│ Documentation was missing or incomplete,...                                                                     │\n",
       "╰─────────────────────────────────────────────────────────────────────────────────────────────────────────────────╯\n",
       "</pre>\n"
      ],
      "text/plain": [
       "╭─────────────────────────────────────────── 🔀 Pull Request Template ────────────────────────────────────────────╮\n",
       "│ **Title:** Documentation: Add usage section to README                                                           │\n",
       "│                                                                                                                 │\n",
       "│ **Labels:** documentation, improvement                                                                          │\n",
       "│                                                                                                                 │\n",
       "│ **Description Preview:**                                                                                        │\n",
       "│ ## Summary                                                                                                      │\n",
       "│ This PR adds/improves documentation for Add usage section to README.                                            │\n",
       "│                                                                                                                 │\n",
       "│ ## Changes Made                                                                                                 │\n",
       "│ - Added comprehensive documentation section                                                                     │\n",
       "│ - Included practical examples and code snippets                                                                 │\n",
       "│ - Followed project's documentation style and formatting                                                         │\n",
       "│                                                                                                                 │\n",
       "│ ## Motivation                                                                                                   │\n",
       "│ Documentation was missing or incomplete,...                                                                     │\n",
       "╰─────────────────────────────────────────────────────────────────────────────────────────────────────────────────╯\n"
      ]
     },
     "metadata": {},
     "output_type": "display_data"
    },
    {
     "data": {
      "text/html": [
       "<pre style=\"white-space:pre;overflow-x:auto;line-height:normal;font-family:Menlo,'DejaVu Sans Mono',consolas,'Courier New',monospace\">╭──────────────────────────────────────────── 📋 Implementation Notes ────────────────────────────────────────────╮\n",
       "│ • Review existing documentation structure and style                                                             │\n",
       "│ • Ensure consistency with project's tone and formatting                                                         │\n",
       "│ • Include practical examples where appropriate                                                                  │\n",
       "│ • Test all code examples before submitting                                                                      │\n",
       "╰─────────────────────────────────────────────────────────────────────────────────────────────────────────────────╯\n",
       "</pre>\n"
      ],
      "text/plain": [
       "╭──────────────────────────────────────────── 📋 Implementation Notes ────────────────────────────────────────────╮\n",
       "│ • Review existing documentation structure and style                                                             │\n",
       "│ • Ensure consistency with project's tone and formatting                                                         │\n",
       "│ • Include practical examples where appropriate                                                                  │\n",
       "│ • Test all code examples before submitting                                                                      │\n",
       "╰─────────────────────────────────────────────────────────────────────────────────────────────────────────────────╯\n"
      ]
     },
     "metadata": {},
     "output_type": "display_data"
    },
    {
     "data": {
      "text/html": [
       "<pre style=\"white-space:pre;overflow-x:auto;line-height:normal;font-family:Menlo,'DejaVu Sans Mono',consolas,'Courier New',monospace\">💾 Contribution saved to data/contribution_certbot_certbot_add_usage_section_to_readme.json\n",
       "</pre>\n"
      ],
      "text/plain": [
       "💾 Contribution saved to data/contribution_certbot_certbot_add_usage_section_to_readme.json\n"
      ]
     },
     "metadata": {},
     "output_type": "display_data"
    },
    {
     "name": "stdout",
     "output_type": "stream",
     "text": [
      "\n",
      "✅ Complete contribution generated with PR template and implementation!\n"
     ]
    }
   ],
   "source": [
    "# Initialize Coder Agent\n",
    "coder = CoderAgent(anthropic_api_key=config.get('ANTHROPIC_API_KEY'))\n",
    "\n",
    "# Select the top opportunity from our strategy\n",
    "if 'strategy' in locals() and strategy['contribution_plan']:\n",
    "    top_opportunity = strategy['contribution_plan'][0]  # Highest priority item\n",
    "    \n",
    "    console.print(Panel(\n",
    "        f\"[bold green]{top_opportunity['opportunity']['title']}[/bold green]\\n\\n\"\n",
    "        f\"Type: {top_opportunity['opportunity']['type'].title()}\\n\"\n",
    "        f\"Priority: {top_opportunity['opportunity']['priority'].title()}\\n\"\n",
    "        f\"Estimated Timeline: {top_opportunity['estimated_timeline']}\\n\"\n",
    "        f\"Effort: {top_opportunity['opportunity']['effort'].title()}\\n\"\n",
    "        f\"Impact: {top_opportunity['opportunity']['impact'].title()}\",\n",
    "        title=\"💻 Generating Code for Top Opportunity\"\n",
    "    ))\n",
    "    \n",
    "    # Generate complete contribution\n",
    "    contribution = coder.generate_contribution(\n",
    "        top_opportunity, \n",
    "        repo_quick_info\n",
    "    )\n",
    "    \n",
    "    # Display generated contribution\n",
    "    coder.display_contribution(contribution)\n",
    "    \n",
    "    # Save the generated contribution\n",
    "    coder.save_contribution(contribution)\n",
    "    \n",
    "    print(f\"\\n✅ Complete contribution generated with PR template and implementation!\")\n",
    "else:\n",
    "    print(\"❌ No strategic plan available for code generation.\")"
   ]
  },
  {
   "cell_type": "markdown",
   "metadata": {},
   "source": [
    "## Step 5: 📝 Feedback Simulation (Mock Feedback Agent)\n",
    "\n",
    "The Feedback Agent simulates the complete lifecycle of our contribution, from submission to final outcome."
   ]
  },
  {
   "cell_type": "code",
   "execution_count": 6,
   "metadata": {},
   "outputs": [
    {
     "data": {
      "text/html": [
       "<pre style=\"white-space:pre;overflow-x:auto;line-height:normal;font-family:Menlo,'DejaVu Sans Mono',consolas,'Courier New',monospace\">╭───────────────────────────────────── 📝 Simulating Contribution Lifecycle ──────────────────────────────────────╮\n",
       "│ We'll simulate the complete contribution lifecycle over 7 days:                                                 │\n",
       "│                                                                                                                 │\n",
       "│ • Day 0: PR submission and initial automated checks                                                             │\n",
       "│ • Day 1-2: CI results and initial maintainer feedback                                                           │\n",
       "│ • Day 3-5: Review process and potential approval                                                                │\n",
       "│ • Day 6-7: Final outcome (merge, changes requested, etc.)                                                       │\n",
       "╰─────────────────────────────────────────────────────────────────────────────────────────────────────────────────╯\n",
       "</pre>\n"
      ],
      "text/plain": [
       "╭───────────────────────────────────── 📝 Simulating Contribution Lifecycle ──────────────────────────────────────╮\n",
       "│ We'll simulate the complete contribution lifecycle over 7 days:                                                 │\n",
       "│                                                                                                                 │\n",
       "│ • Day 0: PR submission and initial automated checks                                                             │\n",
       "│ • Day 1-2: CI results and initial maintainer feedback                                                           │\n",
       "│ • Day 3-5: Review process and potential approval                                                                │\n",
       "│ • Day 6-7: Final outcome (merge, changes requested, etc.)                                                       │\n",
       "╰─────────────────────────────────────────────────────────────────────────────────────────────────────────────────╯\n"
      ]
     },
     "metadata": {},
     "output_type": "display_data"
    },
    {
     "data": {
      "text/html": [
       "<pre style=\"white-space:pre;overflow-x:auto;line-height:normal;font-family:Menlo,'DejaVu Sans Mono',consolas,'Courier New',monospace\">🎬 <span style=\"color: #000080; text-decoration-color: #000080; font-weight: bold\">Simulating </span><span style=\"color: #000080; text-decoration-color: #000080; font-weight: bold\">7</span><span style=\"color: #000080; text-decoration-color: #000080; font-weight: bold\">-day contribution lifecycle...</span>\n",
       "</pre>\n"
      ],
      "text/plain": [
       "🎬 \u001b[1;34mSimulating \u001b[0m\u001b[1;34m7\u001b[0m\u001b[1;34m-day contribution lifecycle\u001b[0m\u001b[1;34m...\u001b[0m\n"
      ]
     },
     "metadata": {},
     "output_type": "display_data"
    },
    {
     "data": {
      "text/html": [
       "<pre style=\"white-space:pre;overflow-x:auto;line-height:normal;font-family:Menlo,'DejaVu Sans Mono',consolas,'Courier New',monospace\">🚀 <span style=\"color: #000080; text-decoration-color: #000080; font-weight: bold\">Mock Feedback Agent: Submitting contribution </span><span style=\"color: #000080; text-decoration-color: #000080; font-weight: bold\">'Add usage section to README'</span><span style=\"color: #000080; text-decoration-color: #000080; font-weight: bold\">...</span>\n",
       "</pre>\n"
      ],
      "text/plain": [
       "🚀 \u001b[1;34mMock Feedback Agent: Submitting contribution \u001b[0m\u001b[1;34m'Add usage section to README'\u001b[0m\u001b[1;34m...\u001b[0m\n"
      ]
     },
     "metadata": {},
     "output_type": "display_data"
    },
    {
     "data": {
      "text/html": [
       "<pre style=\"white-space:pre;overflow-x:auto;line-height:normal;font-family:Menlo,'DejaVu Sans Mono',consolas,'Courier New',monospace\">✅ <span style=\"color: #008000; text-decoration-color: #008000; font-weight: bold\">Contribution submitted with ID: pr_9328</span>\n",
       "</pre>\n"
      ],
      "text/plain": [
       "✅ \u001b[1;32mContribution submitted with ID: pr_9328\u001b[0m\n"
      ]
     },
     "metadata": {},
     "output_type": "display_data"
    },
    {
     "data": {
      "text/html": [
       "<pre style=\"white-space:pre;overflow-x:auto;line-height:normal;font-family:Menlo,'DejaVu Sans Mono',consolas,'Courier New',monospace\">🏁 <span style=\"color: #008000; text-decoration-color: #008000; font-weight: bold\">Simulation complete! Final status: needs_revision</span>\n",
       "</pre>\n"
      ],
      "text/plain": [
       "🏁 \u001b[1;32mSimulation complete! Final status: needs_revision\u001b[0m\n"
      ]
     },
     "metadata": {},
     "output_type": "display_data"
    },
    {
     "data": {
      "text/html": [
       "<pre style=\"white-space:pre;overflow-x:auto;line-height:normal;font-family:Menlo,'DejaVu Sans Mono',consolas,'Courier New',monospace\">╭─────────────────────────────────── 📊 Contribution Outcome: certbot/certbot ────────────────────────────────────╮\n",
       "│ <span style=\"color: #800000; text-decoration-color: #800000; font-weight: bold\">Contribution needs changes before it can be merged.</span>                                                             │\n",
       "│                                                                                                                 │\n",
       "│ Impact: Good learning opportunity to improve the code based on feedback.                                        │\n",
       "│ Days to Resolution: 7                                                                                           │\n",
       "│ Review Rounds: 6                                                                                                │\n",
       "│ Maintainer Engagement: Yes                                                                                      │\n",
       "╰─────────────────────────────────────────────────────────────────────────────────────────────────────────────────╯\n",
       "</pre>\n"
      ],
      "text/plain": [
       "╭─────────────────────────────────── 📊 Contribution Outcome: certbot/certbot ────────────────────────────────────╮\n",
       "│ \u001b[1;31mContribution needs changes before it can be merged.\u001b[0m                                                             │\n",
       "│                                                                                                                 │\n",
       "│ Impact: Good learning opportunity to improve the code based on feedback.                                        │\n",
       "│ Days to Resolution: 7                                                                                           │\n",
       "│ Review Rounds: 6                                                                                                │\n",
       "│ Maintainer Engagement: Yes                                                                                      │\n",
       "╰─────────────────────────────────────────────────────────────────────────────────────────────────────────────────╯\n"
      ]
     },
     "metadata": {},
     "output_type": "display_data"
    },
    {
     "data": {
      "text/html": [
       "<pre style=\"white-space:pre;overflow-x:auto;line-height:normal;font-family:Menlo,'DejaVu Sans Mono',consolas,'Courier New',monospace\">╭────────────────────────────────────────────── 💡 Lessons Learned ───────────────────────────────────────────────╮\n",
       "│ • Consider spending more time on initial code quality.                                                          │\n",
       "│ • Better communication with maintainers could improve outcomes.                                                 │\n",
       "│ • More comprehensive testing might have helped.                                                                 │\n",
       "│ • Understanding project conventions is crucial for acceptance.                                                  │\n",
       "╰─────────────────────────────────────────────────────────────────────────────────────────────────────────────────╯\n",
       "</pre>\n"
      ],
      "text/plain": [
       "╭────────────────────────────────────────────── 💡 Lessons Learned ───────────────────────────────────────────────╮\n",
       "│ • Consider spending more time on initial code quality.                                                          │\n",
       "│ • Better communication with maintainers could improve outcomes.                                                 │\n",
       "│ • More comprehensive testing might have helped.                                                                 │\n",
       "│ • Understanding project conventions is crucial for acceptance.                                                  │\n",
       "╰─────────────────────────────────────────────────────────────────────────────────────────────────────────────────╯\n"
      ]
     },
     "metadata": {},
     "output_type": "display_data"
    },
    {
     "data": {
      "text/html": [
       "<pre style=\"white-space:pre;overflow-x:auto;line-height:normal;font-family:Menlo,'DejaVu Sans Mono',consolas,'Courier New',monospace\">\n",
       "📈 **Contribution Lifecycle Timeline:**\n",
       "</pre>\n"
      ],
      "text/plain": [
       "\n",
       "📈 **Contribution Lifecycle Timeline:**\n"
      ]
     },
     "metadata": {},
     "output_type": "display_data"
    },
    {
     "name": "stdout",
     "output_type": "stream",
     "text": [
      "Day 0: Initial submission - Status: changes_requested\n",
      "Day 1: Status: submitted\n",
      "Day 2: Status: under_review (changed from submitted) - New reviews: 3\n",
      "Day 3: Status: under_review - New reviews: 3\n",
      "Day 4: Status: under_review - New reviews: 3\n",
      "Day 5: Status: changes_requested (changed from under_review) - New reviews: 3\n",
      "Day 6: Status: changes_requested - New reviews: 3\n",
      "Day 7: Status: changes_requested - New reviews: 3\n",
      "\n",
      "✅ Simulation complete! Final outcome: needs_revision\n"
     ]
    }
   ],
   "source": [
    "# Initialize Feedback Agent\n",
    "feedback_agent = MockFeedbackAgent()\n",
    "\n",
    "if 'contribution' in locals():\n",
    "    console.print(Panel(\n",
    "        \"We'll simulate the complete contribution lifecycle over 7 days:\\n\\n\"\n",
    "        \"• Day 0: PR submission and initial automated checks\\n\"\n",
    "        \"• Day 1-2: CI results and initial maintainer feedback\\n\"\n",
    "        \"• Day 3-5: Review process and potential approval\\n\"\n",
    "        \"• Day 6-7: Final outcome (merge, changes requested, etc.)\",\n",
    "        title=\"📝 Simulating Contribution Lifecycle\"\n",
    "    ))\n",
    "    \n",
    "    # Simulate the complete contribution lifecycle\n",
    "    lifecycle_result = feedback_agent.simulate_contribution_lifecycle(\n",
    "        contribution, \n",
    "        days_to_simulate=7\n",
    "    )\n",
    "    \n",
    "    # Display the outcome\n",
    "    feedback_agent.display_feedback_summary(lifecycle_result)\n",
    "    \n",
    "    # Show detailed lifecycle progression\n",
    "    console.print(\"\\n📈 **Contribution Lifecycle Timeline:**\")\n",
    "    for i, entry in enumerate(lifecycle_result['lifecycle']):\n",
    "        if i == 0:\n",
    "            print(f\"Day 0: Initial submission - Status: {entry['status']}\")\n",
    "        else:\n",
    "            updates = entry.get('updates', {})\n",
    "            status_info = f\"Status: {entry['status']}\"\n",
    "            if updates.get('status_change'):\n",
    "                status_info += f\" (changed from {updates['status_change']['from']})\"\n",
    "            if updates.get('new_reviews'):\n",
    "                status_info += f\" - New reviews: {len(updates['new_reviews'])}\"\n",
    "            print(f\"Day {entry['day']}: {status_info}\")\n",
    "    \n",
    "    print(f\"\\n✅ Simulation complete! Final outcome: {lifecycle_result['final_outcome']['status']}\")\n",
    "else:\n",
    "    print(\"❌ No contribution available for feedback simulation.\")"
   ]
  },
  {
   "cell_type": "markdown",
   "metadata": {},
   "source": [
    "## Step 6: 📊 Full Pipeline Summary\n",
    "\n",
    "Let's summarize what our multi-agent system accomplished end-to-end!"
   ]
  },
  {
   "cell_type": "code",
   "execution_count": 7,
   "metadata": {},
   "outputs": [
    {
     "data": {
      "text/html": [
       "<pre style=\"white-space:pre;overflow-x:auto;line-height:normal;font-family:Menlo,'DejaVu Sans Mono',consolas,'Courier New',monospace\">╭──────────────────────────────────────────── ❌ Incomplete Pipeline ─────────────────────────────────────────────╮\n",
       "│ <span style=\"color: #800000; text-decoration-color: #800000; font-weight: bold\">⚠️ Pipeline Incomplete</span>                                                                                           │\n",
       "│                                                                                                                 │\n",
       "│ Missing components:                                                                                             │\n",
       "│                                                                                                                 │\n",
       "│ Please run all previous cells to see the complete pipeline in action.                                           │\n",
       "╰─────────────────────────────────────────────────────────────────────────────────────────────────────────────────╯\n",
       "</pre>\n"
      ],
      "text/plain": [
       "╭──────────────────────────────────────────── ❌ Incomplete Pipeline ─────────────────────────────────────────────╮\n",
       "│ \u001b[1;31m⚠️ Pipeline Incomplete\u001b[0m                                                                                           │\n",
       "│                                                                                                                 │\n",
       "│ Missing components:                                                                                             │\n",
       "│                                                                                                                 │\n",
       "│ Please run all previous cells to see the complete pipeline in action.                                           │\n",
       "╰─────────────────────────────────────────────────────────────────────────────────────────────────────────────────╯\n"
      ]
     },
     "metadata": {},
     "output_type": "display_data"
    }
   ],
   "source": [
    "# Create comprehensive pipeline summary\n",
    "if all(var in locals() for var in ['discovered_repos', 'analysis_result', 'strategy', 'contribution', 'lifecycle_result']):\n",
    "    \n",
    "    pipeline_summary = {\n",
    "        'scout_results': {\n",
    "            'repositories_found': len(discovered_repos),\n",
    "            'selected_repository': repo_quick_info['full_name'],\n",
    "            'selection_score': repo_quick_info['contribution_score']\n",
    "        },\n",
    "        'analysis_results': {\n",
    "            'health_score': analysis_result['health_score'],\n",
    "            'opportunities_found': len(analysis_result['contribution_opportunities']),\n",
    "            'readme_quality': analysis_result['readme_analysis']['quality_score'],\n",
    "            'good_first_issues': analysis_result['issues_analysis']['good_first_issues']\n",
    "        },\n",
    "        'strategy_results': {\n",
    "            'success_probability': strategy['success_probability'],\n",
    "            'planned_contributions': len(strategy['contribution_plan']),\n",
    "            'risk_level': strategy['risk_assessment']['risk_level'],\n",
    "            'recommendations_count': len(strategy['recommendations'])\n",
    "        },\n",
    "        'coder_results': {\n",
    "            'contribution_type': contribution['type'],\n",
    "            'files_to_create': len(contribution['files_to_create']),\n",
    "            'files_to_modify': len(contribution['files_to_modify']),\n",
    "            'pr_ready': bool(contribution['pr_template'])\n",
    "        },\n",
    "        'feedback_results': {\n",
    "            'final_outcome': lifecycle_result['final_outcome']['status'],\n",
    "            'success': lifecycle_result['final_outcome']['success'],\n",
    "            'days_to_resolution': lifecycle_result['success_metrics']['days_to_resolution'],\n",
    "            'maintainer_engagement': lifecycle_result['success_metrics']['maintainer_engagement']\n",
    "        }\n",
    "    }\n",
    "    \n",
    "    console.print(Panel(\n",
    "        f\"[bold green]🎉 COMPLETE PIPELINE SUCCESS! 🎉[/bold green]\\n\\n\"\n",
    "        f\"**🔍 Scout Agent:**\\n\"\n",
    "        f\"• Found {pipeline_summary['scout_results']['repositories_found']} repositories\\n\"\n",
    "        f\"• Selected: {pipeline_summary['scout_results']['selected_repository']}\\n\\n\"\n",
    "        f\"**📊 Analyzer Agent:**\\n\"\n",
    "        f\"• Repository health: {pipeline_summary['analysis_results']['health_score']}/100\\n\"\n",
    "        f\"• Found {pipeline_summary['analysis_results']['opportunities_found']} opportunities\\n\\n\"\n",
    "        f\"**🎯 Strategist Agent:**\\n\"\n",
    "        f\"• Success probability: {pipeline_summary['strategy_results']['success_probability']:.1%}\\n\"\n",
    "        f\"• Risk level: {pipeline_summary['strategy_results']['risk_level']}\\n\\n\"\n",
    "        f\"**💻 Coder Agent:**\\n\"\n",
    "        f\"• Generated {pipeline_summary['coder_results']['contribution_type']} contribution\\n\"\n",
    "        f\"• Created {pipeline_summary['coder_results']['files_to_create']} new files\\n\"\n",
    "        f\"• PR template: {'✅ Ready' if pipeline_summary['coder_results']['pr_ready'] else '❌ Missing'}\\n\\n\"\n",
    "        f\"**📝 Feedback Agent:**\\n\"\n",
    "        f\"• Final outcome: {pipeline_summary['feedback_results']['final_outcome'].title()}\\n\"\n",
    "        f\"• Success: {'✅ Yes' if pipeline_summary['feedback_results']['success'] else '❌ No'}\\n\"\n",
    "        f\"• Resolution time: {pipeline_summary['feedback_results']['days_to_resolution']} days\",\n",
    "        title=\"🚀 Multi-Agent Pipeline Summary\"\n",
    "    ))\n",
    "    \n",
    "    # Save complete pipeline results\n",
    "    with open('../data/pipeline_results.json', 'w') as f:\n",
    "        json.dump(pipeline_summary, f, indent=2, default=str)\n",
    "    \n",
    "    console.print(\"\\n💾 **Complete results saved to `data/pipeline_results.json`**\")\n",
    "    \n",
    "    # Show what a real implementation would do next\n",
    "    console.print(Panel(\n",
    "        \"[bold yellow]🚀 Next Steps for Production Implementation:[/bold yellow]\\n\\n\"\n",
    "        \"1. **Replace mock feedback** with real GitHub API integration\\n\"\n",
    "        \"2. **Add user authentication** and permission handling\\n\"\n",
    "        \"3. **Implement actual PR submission** workflow\\n\"\n",
    "        \"4. **Add monitoring and logging** for production use\\n\"\n",
    "        \"5. **Create web interface** for non-technical users\\n\"\n",
    "        \"6. **Add more sophisticated AI models** for better analysis\\n\"\n",
    "        \"7. **Implement learning system** to improve over time\",\n",
    "        title=\"🔮 Production Roadmap\"\n",
    "    ))\n",
    "    \n",
    "else:\n",
    "    missing_components = []\n",
    "    if 'discovered_repos' not in locals(): missing_components.append('Scout results')\n",
    "    if 'analysis_result' not in locals(): missing_components.append('Analysis results')\n",
    "    if 'strategy' not in locals(): missing_components.append('Strategy results')\n",
    "    if 'contribution' not in locals(): missing_components.append('Code generation results')\n",
    "    if 'lifecycle_result' not in locals(): missing_components.append('Feedback simulation results')\n",
    "    \n",
    "    console.print(Panel(\n",
    "        f\"[bold red]⚠️ Pipeline Incomplete[/bold red]\\n\\n\"\n",
    "        f\"Missing components: {', '.join(missing_components)}\\n\\n\"\n",
    "        f\"Please run all previous cells to see the complete pipeline in action.\",\n",
    "        title=\"❌ Incomplete Pipeline\"\n",
    "    ))\n"
   ]
  },
  {
   "cell_type": "markdown",
   "metadata": {},
   "source": [
    "## 🎯 Key Takeaways\n",
    "\n",
    "This demo showcases a **complete autonomous system** for open source contributions:\n",
    "\n",
    "### 🔥 **What Makes This Impressive:**\n",
    "1. **Multi-Agent Coordination** - Five specialized agents working together\n",
    "2. **End-to-End Automation** - From discovery to PR generation\n",
    "3. **Intelligent Decision Making** - Quality scoring, risk assessment, strategic planning\n",
    "4. **Real-World Applicable** - Uses actual GitHub APIs and realistic feedback loops\n",
    "5. **Production-Ready Architecture** - Modular, extensible, and scalable\n",
    "\n",
    "### 💼 **Business Value:**\n",
    "- **For Developers**: Automates the tedious parts of open source contribution\n",
    "- **For Companies**: Demonstrates advanced AI system design and implementation\n",
    "- **For Open Source**: Increases contribution quality and frequency\n",
    "\n",
    "### 🚀 **Next Steps:**\n",
    "- Add real GitHub integration for live PR submission\n",
    "- Implement learning mechanisms to improve over time\n",
    "- Create a web interface for broader accessibility\n",
    "- Add more sophisticated contribution types (complex features, architecture improvements)\n",
    "\n",
    "---\n",
    "\n",
    "**This is exactly the kind of multi-agent system that demonstrates advanced AI capabilities to potential employers in the AI startup space!** 🎯"
   ]
  }
 ],
 "metadata": {
  "kernelspec": {
   "display_name": "venv",
   "language": "python",
   "name": "python3"
  },
  "language_info": {
   "codemirror_mode": {
    "name": "ipython",
    "version": 3
   },
   "file_extension": ".py",
   "mimetype": "text/x-python",
   "name": "python",
   "nbconvert_exporter": "python",
   "pygments_lexer": "ipython3",
   "version": "3.13.7"
  }
 },
 "nbformat": 4,
 "nbformat_minor": 4
}
